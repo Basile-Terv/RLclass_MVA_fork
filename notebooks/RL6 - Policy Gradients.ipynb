{
 "cells": [
  {
   "cell_type": "markdown",
   "id": "af2c7eac-fbff-48e4-abd3-f0fbc8aee546",
   "metadata": {},
   "source": [
    "<a rel=\"license\" href=\"http://creativecommons.org/licenses/by-nc-sa/4.0/\"><img alt=\"Creative Commons License\" align=\"left\" src=\"https://i.creativecommons.org/l/by-nc-sa/4.0/80x15.png\" /></a>&nbsp;| [Emmanuel Rachelson](https://personnel.isae-supaero.fr/emmanuel-rachelson?lang=en) | <a href=\"https://erachelson.github.io/RLclass_MVA/\">https://erachelson.github.io/RLclass_MVA/</a>"
   ]
  },
  {
   "cell_type": "markdown",
   "id": "887122ef-64e7-42f7-b83e-a684377dede3",
   "metadata": {},
   "source": [
    "<div style=\"font-size:22pt; line-height:25pt; font-weight:bold; text-align:center;\">Chapter 6: Policy gradient algorithms</div>"
   ]
  },
  {
   "cell_type": "markdown",
   "id": "4da4fb8d-f3bc-4491-98f6-beda321c3114",
   "metadata": {},
   "source": [
    "In this chapter we first depart from the (approximate) dynamic programming framework we have worked with so far. We turn back to a criterion for optimality we introduced in the first chapters, namely the average value of a policy across (starting) states. We explore the question of writing the gradient of this criterion with respect to policy parameters, which leads us to the very important policy gradient theorem and the family of policy gradient algorithms."
   ]
  },
  {
   "cell_type": "markdown",
   "id": "66f13753-b148-458f-b850-3d5a594b35d1",
   "metadata": {},
   "source": [
    "Direct Policy search: have a scalar criterion to directly compare policies accross ALL states, instead of just deducing best policy from the Q-function"
   ]
  },
  {
   "cell_type": "markdown",
   "id": "6a3d20f8-d89f-456e-980a-b1a9f2653a42",
   "metadata": {},
   "source": [
    "<div class=\"alert alert-success\">\n",
    "\n",
    "**Learning outcomes**   \n",
    "By the end of this chapter, you should be able to:\n",
    "- recall and explain the policy gradient theorem for infinite horizon problems,\n",
    "- explain the problem of gradient estimate variance and the introduction of baselines,\n",
    "- implement a REINFORCE algorithm for discrete action spaces,\n",
    "- implement an A2C algorithm for discrete action spaces.\n",
    "\n",
    "Additionally, after doing the homework, you should be able to:\n",
    "- use vectorized environments to accelerate sample collection in policy gradient algorithms,\n",
    "- implement REINFORCE and A2C for continuous action spaces,\n",
    "- derive the policy gradient theorem for finite horizon problems,\n",
    "- explain and implement a generalized advantage estimation method within a policy gradient algorithm,\n",
    "- derive the formulation of off-policy policy gradients,\n",
    "- implement natural policy gradients, TRPO and PPO,\n",
    "- explain and implement the \"OpenAI evolution strategy\" and the \"Canonical evolution strategy\" for gradient-free direct policy search.\n",
    "</div>"
   ]
  },
  {
   "cell_type": "markdown",
   "id": "43c423ae-0c04-4324-a87a-e0b163f0fd1a",
   "metadata": {},
   "source": [
    "CAREFUL: SAC uses actor-critic architectures but are not actor-critic algorithm. Architecture=2 neural networks (1 actor, 1 critic). All actor-critic algorithms use actor-critic architectures but not the converse.\n",
    "\n",
    "For the homework, we want to use PPO or TRPO, look at the paper pointed to."
   ]
  },
  {
   "cell_type": "markdown",
   "id": "089ae3c4-5352-4a2c-b178-49f9d050d693",
   "metadata": {},
   "source": [
    "# Policy gradient methods\n",
    "\n",
    "<div class=\"alert alert-success\">\n",
    "\n",
    "**Bottomline question:**   \n",
    "The previous chapters have focussed on *action-value methods*; they aimed at estimating $Q^*$ in order to deduce $\\pi^*$, or they jointly optimized $Q$ and $\\pi$. Could we directly optimize $\\pi$?\n",
    "</div>\n",
    "\n",
    "Suppose we have a policy $\\pi_\\theta$ parameterized by a vector $\\theta$. Our goal is to find the parameter $\\theta^*$ corresponding to $\\pi^*$.\n",
    "\n",
    "Remarks:\n",
    "- $\\pi_\\theta$ might not be able to represent $\\pi^*$. We will take a shortcut and call $\\pi^*$ the best policy among the $\\pi_\\theta$ ones.\n",
    "- For discrete state and action spaces, the tabular policy representation is a special case of policy parameterization. (Trivial remark, this is just a way to represent).\n",
    "- Policy parameterization is a (possibly useful) way of introducing prior knowledge on the set of the desired policies. (Set of possible functions from S to A is huge but we restrict, for ex if we use Lipschitz neural network we constrain the policy to be Lip).\n",
    "- The optimal deterministic policies $\\pi^*$ (remember fundamental thm of existence of optimal policies that are deterministic) might not belong to the policy subspace of $\\pi_\\theta, \\theta \\in \\Theta$, thus it makes sense to consider stochastic policies for $\\pi_\\theta$.\n",
    "- It makes even more sense to consider stochastic policies that it opens the family of environments that we can tackle, like partially observable MDPs or multi-player games.\n",
    "\n",
    "For stochastic policies, we shall write $\\pi_\\theta(a|s)$ the probability distribution of action taken from state $s$.\n",
    "\n",
    "In the remainder of the chapter, we will assume that $\\pi_\\theta$ is differentiable with respect to $\\theta$."
   ]
  },
  {
   "cell_type": "markdown",
   "id": "5f98a37c-3be9-4820-bb3d-f9ba43eb6911",
   "metadata": {},
   "source": [
    "Suppose now we define some performance metric $J(\\pi_\\theta) = J(\\theta)$ (performance metric on the policy, not the reward from a state-action transition). If $J$ is differentiable and a stochastic estimate $\\tilde{\\nabla}_\\theta J(\\theta)$ of the gradient is available, then we can define the **stochastic** gradient ascent update procedure:\n",
    "$$\\theta \\leftarrow \\theta + \\alpha \\tilde{\\nabla}_\\theta J(\\theta).$$\n",
    "\n",
    "We will call **policy gradient methods** all methods that follow such a procedure (whether or not they also learn a value function or not).\n",
    "\n",
    "<div class=\"alert alert-success\">\n",
    "\n",
    "**Polcy gradient method**   \n",
    "We call **policy gradient method** any method that performs stochastic gradient ascent on the policy's parameters.  \n",
    "Given a stochastic estimate $\\tilde{\\nabla}_\\theta J(\\theta)$ of a policy's performance criterion with respect to the policy's parameters, such a method implements the update procedure: \n",
    "$$\\theta \\leftarrow \\theta + \\alpha \\tilde{\\nabla}_\\theta J(\\theta).$$\n",
    "</div>\n",
    "\n",
    "Remarks: \n",
    "- Note that $J$ is a generic criterion. For example, $J$ could be defined as the $\\gamma$-discounted value of a starting state (or a distribution of starting states), or as the undiscounted reward over a certain horizon, or as the average reward.\n",
    "- Note that this family of methods can use any **gradient estimate** for $\\tilde{\\nabla}_\\theta J(\\theta)$:\n",
    "    - formal calculus (classical calculus yields a formula we evaluate in the point of interest),\n",
    "    - finite differences: take very close points $x,y$ and compute difference $f(x)-f(y)$,\n",
    "    - automated differentiation (can use the chain rule on a so-called \"graph of function\", this is called automated differentation) : the method we mostly use in RL,\n",
    "    - evolution strategies (draw points at random around the point of interest $x$ and consider differences of $f(x)$ as the gradient, etc.\n",
    "- Why is it interesting to look at policy gradient methods? Because there is no **maximization step** ($\\max_a Q(s,a)$) during **evaluation**, which might be costly, especially for continuous actions, but only a call to $\\pi_\\theta(s)$ (or a draw from $\\pi_\\theta(a|s)$). This argument makes actor-critic architectures or direct policy search a method of choice for continuous actions domains (especially common in Robotics) and Policy Gradient is one of them.\n",
    "- When do policy gradient approaches outperform value-based ones? It's hard to give a precise criterion; it really depends on the problem. One thing that comes into play is how easy it is to approximate the optimal policy or the optimal value function. If one is simpler than the other (by \"simpler\", we mean \"it is easier to find a parameterization whose spanned function space almost includes the function to approximate\"), then it is a good heuristic to try to approximate it. But this criterion might itself be hard to assess."
   ]
  },
  {
   "cell_type": "markdown",
   "id": "7792df89-be43-455d-af32-2052d1bd8f15",
   "metadata": {},
   "source": [
    "**Notations**\n",
    "\n",
    "- We consider probability density functions $p(X)$ for all random variables $X$.\n",
    "- For a policy $\\pi_\\theta$ and a random variable $X$ we write indifferently $p(X|\\pi_\\theta) = p(X|\\theta)$.\n",
    "- A trajectory is noted $\\tau = (s_t,a_t)_{t\\in \\mathbb{N}}$.\n",
    "- The state random variable at step $t$ is $S_t$ and its law's density is $p_t(s)$.\n",
    "- The action random variable at step $t$ is $A_t$."
   ]
  },
  {
   "cell_type": "markdown",
   "id": "96beae82-90be-4b77-85e5-21a43733629e",
   "metadata": {},
   "source": [
    "# The policy gradient theorem\n",
    "\n",
    "## Reminder on the policy optimization objective\n",
    "\n",
    "Recall the policy optimization objective defined in previous chapters, given a distribution $p_0$ on states :  \n",
    "$$J(\\pi) = \\mathbb{E}_{s \\sim p_0} \\left[ V^{\\pi} (s) \\right].$$\n",
    "($J$ is an example of evaluation criterion as mentioned above)\n",
    "\n",
    "Or equivalently:  \n",
    "$$J(\\pi) = \\mathbb{E}_{(s_i,a_i)_{i \\in \\mathbb{N}}} \\left[ \\sum_{t=0}^\\infty \\gamma^t r(s_t,a_t)  | \\pi, p_0 \\right].$$\n",
    "Since $p_0$ is supposed **known** and fixed (never supposed in the definition of our MDP except in the last class), we **will omit it in the rest of this chapter for the sake of readability**.  \n",
    "We can switch the sum and the expectation and get:  \n",
    "$$J(\\pi) = \\sum_{t=0}^\\infty \\gamma^t \\mathbb{E}_{(s_i,a_i)_{i \\in \\mathbb{N}}} \\left[ r(s_t,a_t)  | \\pi \\right].$$\n",
    "But $\\mathbb{E}_{(s_i,a_i)_{i \\in \\mathbb{N}}} \\left[ r(s_t,a_t)  | \\pi \\right] = \\mathbb{E}_{s_t,a_t} \\left[ r(s_t,a_t)  | \\pi \\right]$. So:\n",
    "$$J(\\pi) = \\sum_{t=0}^\\infty \\gamma^t \\mathbb{E}_{s_t,a_t} \\left[ r(s_t,a_t)  | \\pi \\right].$$\n",
    "Now let's introduce the density of $(s_t,a_t)$:\n",
    "$$J(\\pi) = \\sum_{t=0}^\\infty \\gamma^t \\int_S \\int_A r(s_t,a_t) p(s_t,a_t|\\pi) ds_t da_t.$$\n",
    "But $p(s_t,a_t|\\pi) = p(s_t|\\pi) p(a_t|s_t,\\pi)$. By definition, $p(s_t|\\pi) = p_t(s|\\pi)$ and $p(a_t=a|s_t=s,\\pi) = \\pi(a|s)$. So:\n",
    "$$J(\\pi) = \\sum_{t=0}^\\infty \\gamma^t \\int_S \\int_A r(s,a) p_t(s|\\pi) \\pi(a|s) ds da.$$\n",
    "Let us isolate the terms that concern only states:\n",
    "$$J(\\pi) = \\int_S \\left[ \\int_A r(s,a) \\pi(a|s) da \\right] \\sum_{t=0}^\\infty \\gamma^t p_t(s|\\pi) ds.$$\n",
    "Let's note $\\rho^\\pi(s) = \\sum_{t=0}^\\infty \\gamma^t p_t(s|\\pi)$. We have encountered this quantity in previous chapters and called it the **state occupancy measure under policy $\\pi$ and starting distribution $p_0$**. It is not a proper distribution per se (it sums to $\\frac{1}{1-\\gamma}$), and is sometimes also called the *improper state distribution under policy $\\pi$* or the *improper state visitation frequency under policy $\\pi$*. Then we have:\n",
    "$$J(\\pi) = \\int_S \\left[ \\int_A r(s,a) \\pi (a|s) da \\right] \\rho^\\pi(s) ds.$$\n",
    "And so finally, with a slight notation abuse because $\\rho^\\pi$ is not a probability distribution:\n",
    "$$J(\\theta) = \\mathbb{E}_{\\substack{s\\sim\\rho^\\pi \\\\ a\\sim \\pi}} \\left[ r(s,a) \\right].$$\n",
    "\n",
    "In plain words, the value of a policy $\\pi$ is the average value of the rewards when states are sampled according to $\\rho^\\pi$ and actions are sampled according to $\\pi$."
   ]
  },
  {
   "cell_type": "markdown",
   "id": "150c60fd-7697-4aee-9e2d-db8b90616e2c",
   "metadata": {},
   "source": [
    "## The policy gradient theorem\n",
    "\n",
    "The crucial problem of computing $\\nabla_\\theta J(\\theta)$ lies in the fact that when $\\theta$ changes, both $\\pi$ and $\\rho^\\pi$ change jointly. So there seems to be no straighforward way of evaluating this gradient. One could fall back to a *finite differences* approach to estimating this gradient, but this would require trying out a series of increments $\\Delta \\theta$ (not a laplacian but just a difference in the $\\Theta$ space) which quickly becomes impractical (because the increment size is hard to tune, especially in stochastic systems, and also because of the sample inefficiency of the approach).\n",
    "\n",
    "Remark:\n",
    "- Let's not discard finite difference methods too quickly. They have their merits and showed great successes through methods such as [PEGASUS (Ng and Jordan, 2000)](https://arxiv.org/abs/1301.3878). Also, having random $\\Delta \\theta$ drawn from a Gaussian distribution is essentially what Evolution Strategies do, and [Salimans et al. (2017)](https://arxiv.org/abs/1703.03864) or [Chrabaszcz et al. (2018)](https://arxiv.org/abs/1802.08842) illustrated how that could be a scalable method to obtain gradient estimates in RL. We won't cover these topics here and leave them as exercises.  \n",
    "\n",
    "The **key result of this chapter** is that one can express the gradient of $J(\\theta)$ as directly proportional to the value of $Q^\\pi$ and the gradient of $\\pi$:\n",
    "<div class=\"alert alert-success\">\n",
    "\n",
    "**Policy gradient theorem:**  \n",
    "$$\\nabla_\\theta J(\\theta) \\propto \\mathbb{E}_{\\substack{s\\sim\\rho^\\pi \\\\ a\\sim \\pi}} \\left[ Q^\\pi(s,a) \\nabla_\\theta \\log\\pi(a|s)\\right]$$\n",
    "</div>\n",
    "Very intuitive, update $\\theta$ to increase probability of actions with high $Q$ in the direction to increase the most their probability."
   ]
  },
  {
   "cell_type": "markdown",
   "id": "b877d21c-a9bc-400a-8a00-7f68e8d62bc3",
   "metadata": {},
   "source": [
    "<div class=\"alert alert-warning\">\n",
    "\n",
    "**Exercise:**  \n",
    "Why is it not really a problem that $\\rho^\\pi$ is not a proper probability density function?\n",
    "</div>"
   ]
  },
  {
   "cell_type": "markdown",
   "id": "13668513-99c6-4d43-bc64-8913b22e24ae",
   "metadata": {},
   "source": [
    "<details class=\"alert alert-danger\">\n",
    "    <summary markdown=\"span\"><b>Ready to see the answer? (click to expand)</b></summary>\n",
    "\n",
    "It is not really a problem because it is still a measure, proportional to a density function.  \n",
    "We are interested in ascent *directions*, not the exact gradient. The latter is proportional to the former (so only the learning rate would change). So as long as we can sample from a distribution whose mass is proportional to $\\rho^\\pi$, we obtain a correct direction estimate.\n",
    "</details>"
   ]
  },
  {
   "cell_type": "markdown",
   "id": "4fed3fb7-e06c-48f4-afbc-717c92935251",
   "metadata": {},
   "source": [
    "The proof of this result is simple but a bit tedious. We can however give the general intuition. Let's consider trajectories $\\tau = (s_0,a_0,r_0,...)$ drawn according to $\\pi$ from the starting state. Each of these trajectories has an overall payoff of $G(\\tau) = \\sum_t \\gamma^t r_t$, and is drawn with probability density $p(\\tau|\\theta)$. Then the objective function can be written:\n",
    "\\begin{align}\n",
    "J(\\theta) &= \\mathbb{E}_\\tau \\left[ G(\\tau) | \\theta \\right]\\\\\n",
    " &= \\int G(\\tau) p(\\tau | \\theta) d\\tau\n",
    "\\end{align}\n",
    "\n",
    "So the objective function's gradient is:\n",
    "\\begin{align}\n",
    "\\nabla_\\theta J(\\theta) &= \\nabla_\\theta \\int G(\\tau) p(\\tau|\\theta) d\\tau,\\\\\n",
    " &= \\int G(\\tau) \\nabla_\\theta p(\\tau|\\theta) d\\tau,\\\\\n",
    " &= \\int G(\\tau) p(\\tau|\\theta) \\frac{\\nabla_\\theta p(\\tau|\\theta)}{p(\\tau|\\theta)} d\\tau,\\\\\n",
    " &= \\mathbb{E}_\\tau \\left[ G(\\tau) \\nabla_\\theta \\log p(\\tau|\\theta) \\right].\n",
    "\\end{align}"
   ]
  },
  {
   "cell_type": "markdown",
   "id": "9992e3d5-bc45-4830-b54a-0463d38fae9d",
   "metadata": {},
   "source": [
    "We have used the fact that $\\nabla_\\theta p(\\tau|\\theta) = p(\\tau|\\theta) \\nabla_\\theta \\log p(\\tau|\\theta)$, sometimes known as the *nabla-log* trick.  \n",
    "Let us study the $\\nabla_\\theta \\log p(\\tau|\\theta)$ term along a series of remarks.\n",
    "\n",
    "**Remark 1: law of $s_{t+1},a_{t+1}$ given the policy and history.**  \n",
    "One has $p(s_{t+1},a_{t+1} | (s_i,a_i)_{i \\in [0,t]}, \\theta) = p(s_{t+1} | (s_i,a_i)_{i \\in [0,t]}, \\theta) p(a_{t+1} | s_{t+1}, (s_i,a_i)_{i \\in [0,t]}, \\theta)$.  \n",
    "But the transition model is Markovian, so $p(s_{t+1} | (s_i,a_i)_{i \\in [0,t]}, \\theta) = p(s_{t+1} | s_t, a_t)$.  \n",
    "And the law of $a_{t+1}$ is given by the policy, so $p(a_{t+1} | s_{t+1}, (s_i,a_i)_{i \\in [0,t]}, \\theta) = \\pi_\\theta(a_{t+1}|s_{t+1})$.  \n",
    "Consequently:\n",
    "$$p(s_{t+1},a_{t+1} | (s_i,a_i)_{i \\in [0,t]}, \\theta) = p(s_{t+1} | s_t, a_t) \\pi_\\theta(a_{t+1}|s_{t+1}).$$"
   ]
  },
  {
   "cell_type": "markdown",
   "id": "d1fd6aeb-d089-4a3d-9137-1bcc62fed008",
   "metadata": {},
   "source": [
    "**Remark 2: probability density of a trajectory.**  \n",
    "Recall that $p(\\tau|\\theta) = p((s_t,a_t)_{t\\in [0,\\infty]}|\\theta)$.  \n",
    "This joint probability can be decomposed into conditional probabilities: $$p(\\tau|\\theta) = p(s_0,a_0|\\theta) \\prod_{t=0}^\\infty p(s_{t+1},a_{t+1} | (s_i,a_i)_{i \\in [0,t]}, \\theta).$$ \n",
    "The previous remarks allows us to simplify to: $$p(\\tau|\\theta) = p(s_0,a_0|\\theta) \\prod_{t=0}^\\infty p(s_{t+1} | s_t, a_t) \\pi_\\theta(a_{t+1}|s_{t+1}).$$ \n",
    "By expanding the first term into $p(s_0)\\pi_\\theta(a_0|s_0)$ and reordering the terms inside the product, we obtain:\n",
    "$$p(\\tau|\\theta) = p(s_0) \\prod_{t=0}^\\infty p(s_{t+1} | s_t, a_t) \\pi_\\theta(a_t|s_t).$$"
   ]
  },
  {
   "cell_type": "markdown",
   "id": "e6d1ea75-547b-4115-ad79-7de88f5d4194",
   "metadata": {},
   "source": [
    "**Remark 3: grad-log-prob of a trajectory.**  \n",
    "Now let us consider the full $\\nabla_\\theta \\log p(\\tau|\\theta)$ term. The previous remarks tell us that  \n",
    "$$\\nabla_\\theta \\log p(\\tau|\\theta) = \\nabla_\\theta \\log p(s_0) + \\sum_{t=0}^\\infty \\left[ \\nabla_\\theta \\log p(s_{t+1} | s_t, a_t) + \\nabla_\\theta \\log \\pi_\\theta(a_t|s_t)\\right].$$\n",
    "But the initial state distribution and the transition model do not depend on $\\theta$ (we assumed $p_0$ fixed), so this expression boils down to:\n",
    "$$\\nabla_\\theta \\log p(\\tau|\\theta) = \\sum_{t=0}^\\infty \\nabla_\\theta \\log \\pi_\\theta(a_t|s_t).$$\n",
    "\n",
    "And we will admit the step (we can show it using the computation right before Remark 1) which leads to:\n",
    "$$\\nabla_\\theta J(\\theta) = \\mathbb{E}_{\\substack{s\\sim\\rho^\\pi \\\\ a\\sim \\pi}} \\left[ G(\\tau) \\nabla_\\theta \\log \\pi_\\theta(a|s) \\right].$$\n",
    "\n",
    "We don't quite have the policy gradient as stated above, but this intermediate result actually already provides us with a straightforward algorithm, so let's mark it:\n",
    "<div class=\"alert alert-success\">\n",
    "\n",
    "**Policy gradient**  \n",
    "Given trajectories $\\tau=(s_t,a_t)_{t\\in [0,\\infty]}$ drawn according to policy $\\pi$, and evaluated through a criterion $G(\\tau)$, \n",
    "$$\\nabla_\\theta J(\\theta) = \\mathbb{E}_{\\substack{s\\sim\\rho^\\pi \\\\ a\\sim \\pi}} \\left[ G(\\tau) \\nabla_\\theta \\log \\pi_\\theta(a|s) \\right].$$\n",
    "(compare to main result of this chapter, here we have $G$ instead of $Q$)\n",
    "</div>\n",
    "\n",
    "So we could play policy $\\pi_\\theta$ from $p_0$, and collect pairs of states and actions $(s,a)$. After each trajectory terminates, sum the rewards obtained to get $G(\\tau)$, then sum over all encountered states and actions the $G(\\tau) \\nabla_\\theta \\log \\pi_\\theta(a|s)$ terms. This yields an ascent direction: we can take a stochastic gradient ascent step, and repeat."
   ]
  },
  {
   "cell_type": "markdown",
   "id": "171fd865-00d3-4fec-beee-419416af88d1",
   "metadata": {},
   "source": [
    "**Interpretation**  \n",
    "Let us consider a fixed $s$.  \n",
    "Then $\\nabla_\\theta \\log \\pi_\\theta(a|s)$ is the answer to \"in what direction should I change $\\theta$ to increase the log probability of taking action $a$ in $s$?\".  \n",
    "The expression above tells us that in order to improve the value of $\\pi_\\theta$, we should change $\\theta$ in a direction that is a linear combination of all $\\nabla_\\theta \\pi_\\theta(a|s)$, giving more weight to action $a$ in state $s$ in proportion to the value $G(\\tau)$ of the trajectory they belong too.   \n",
    "In even simpler words: if a trajectory was better than another, its action probabilities should be reinforced (hence the name of the algorithm).\n",
    "\n",
    "The next section will focus on implementing this algorithm (almost), but for now let us finish deriving the policy gradient theorem."
   ]
  },
  {
   "cell_type": "markdown",
   "id": "f0190d84-c24c-4648-809d-717556ac60c5",
   "metadata": {},
   "source": [
    "**Remark 4: the expected grad-log-prob lemma.**  \n",
    "Let us take a step aside and consider the expectation of $\\nabla_\\theta \\log \\pi_\\theta(a|s)$.  \n",
    "Let's simplify the notation and consider a generic probability density function $\\pi_\\theta(x)$. Then:\n",
    "In a given $s$:\n",
    "\\begin{align}\n",
    "\\mathbb{E}_{a\\sim \\pi_\\theta(s)} [ \\nabla_\\theta \\log \\pi_\\theta(x) ] &= \\int_A \\pi_\\theta(a|s) \\nabla_\\theta \\log \\pi_\\theta(a|s) da\\\\\n",
    " &= \\int_A \\pi_\\theta(a|s) da\\\\\n",
    " &= \\nabla_\\theta \\int_A \\pi_\\theta(a|s) da\\\\\n",
    " &= \\nabla_\\theta 1\\\\\n",
    " &= 0\n",
    "\\end{align}\n",
    "So we get that: \n",
    "$$\\mathbb{E}_{\\substack{s\\sim\\rho^\\pi \\\\ a\\sim \\pi}} \\left[ \\nabla_\\theta \\log \\pi_\\theta(a|s) \\right] = \\mathbb{E}_{s\\sim\\rho^\\pi} \\left[ \\mathbb{E}_{a\\sim \\pi} \\left[ \\nabla_\\theta \\log \\pi_\\theta(a|s) \\right] \\right] = \\mathbb{E}_{s\\sim\\rho^\\pi} [0]=  0.$$\n",
    "Actually, we can generalize this immediately: we can multiply $\\nabla_\\theta \\log \\pi_\\theta(a|s)$ by anything that does not depend on $a$ and obtain the same result:\n",
    "$$\\mathbb{E}_{\\substack{s\\sim\\rho^\\pi \\\\ a\\sim \\pi}} \\left[ b(s)\\left[ \\nabla_\\theta \\log \\pi_\\theta(a|s) \\right] \\right] = 0.$$\n",
    "This will come in handy in a future section about baselines in policy gradients and will serve as a basis for the exercise on [Generalized Advantage Estimation (Schulman et al., 2016)](https://arxiv.org/abs/1506.02438), but for now it will help us finish proving the policy gradient theorem."
   ]
  },
  {
   "cell_type": "markdown",
   "id": "9e1f927a-89bb-430c-ae15-d31386759126",
   "metadata": {},
   "source": [
    "**Obtaining the policy gradient theorem**  \n",
    "Recall that for a **$\\gamma$ discounted evaluation criterion**:\n",
    "$$G(\\tau) = \\sum_{t'=0}^\\infty \\gamma^{t'} r_{t'}.$$\n",
    "Let us consider a given time step $t$, at which a certain $(s,a)$ is encountered in $\\tau$. Then:\n",
    "$$G(\\tau) = \\sum_{t'=0}^{t-1} \\gamma^{t'} r_{t'} + \\sum_{t'=t}^\\infty \\gamma^{t'} r_{t'}.$$\n",
    "Then we have:\n",
    "\\begin{align*}\n",
    "\\nabla_\\theta J(\\theta) &= \\mathbb{E}_{\\substack{s\\sim\\rho^\\pi \\\\ a\\sim \\pi}} \\left[ G(\\tau) \\nabla_\\theta \\log \\pi_\\theta(a|s) \\right],\\\\\n",
    " &= \\mathbb{E}_{\\substack{s\\sim\\rho^\\pi \\\\ a\\sim \\pi}} \\left[ \\left[\\sum_{t'=0}^{t-1} \\gamma^{t'} r_{t'} + \\sum_{t'=t}^\\infty \\gamma^{t'} r_{t'} \\right] \\nabla_\\theta \\log \\pi_\\theta(a|s) \\right].\n",
    "\\end{align*}\n",
    "Since $t$ is the time of occurence of $(s,a)$ in $\\tau$, the first sum $\\sum_{t'=0}^{t-1} \\gamma^{t'} r_{t'}$ does not depend on $a$. Consequently (thanks to the last remark, grad-log-prob lemma):\n",
    "$$\\mathbb{E}_{\\substack{s\\sim\\rho^\\pi \\\\ a\\sim \\pi}} \\left[ \\left[\\sum_{t'=0}^{t-1} \\gamma^{t'} r_{t'} \\right] \\nabla_\\theta \\log \\pi_\\theta(a|s) \\right] = 0.$$\n",
    "\n",
    "In other words, any reward obtained before action $a$ is taken should not participate in reinforcing the probability of $a$ in $s$. This seems rather intuitive: an action should be reinforced only based on its consequences, not on rewards acquired before taking the action.\n",
    "\n",
    "So, since $Q^\\pi(s,a) = \\mathbb{E} [ \\sum_{t'=t}^\\infty \\gamma^{t'} r_{t'} | S_t=s, A_t=a, \\theta]$, we finally obtain the policy gradient:\n",
    "$$\\nabla_\\theta J(\\theta) \\propto \\mathbb{E}_{\\substack{s\\sim\\rho^\\pi \\\\ a\\sim \\pi}} \\left[ Q^\\pi(s,a) \\nabla_\\theta \\log\\pi(a|s)\\right].$$"
   ]
  },
  {
   "cell_type": "markdown",
   "id": "bf82ad47-a819-4361-b92c-80889cf17f30",
   "metadata": {},
   "source": [
    "**Interpretation**  \n",
    "Let us rephrase and refine the previous interpretation.  \n",
    "Consider a fixed $s$. Then (again) $\\nabla_\\theta \\log \\pi(a|s)$ is the answer to \"in what direction should I change $\\theta$ to increase the log probability of taking action $a$ in $s$?\".   \n",
    "The policy gradient theorem tells us that in order to improve the value of $\\pi_\\theta$, we should change $\\theta$ in a direction that is a linear combination of all $\\nabla_\\theta \\log\\pi(a|s)$, giving more weight to actions that provide a large $Q^\\pi(s,a)$. \n",
    "\n",
    "We can push the interpretation of $\\nabla_\\theta \\log \\pi(a|s) = \\frac{\\nabla_\\theta \\pi(a|s)}{\\pi(a|s)}$ a bit further. $\\nabla_\\theta \\pi(a_t|s_t)$ is a vector in parameter space that points in the direction of greatest increase of $\\pi(a|s)$. The update will encourage taking a step in this direction if the action provided high return (through $Q(s,a)$), but moving in this direction will be moderated if the action is already picked frequently (through $\\pi(a|s)$) so that other actions have a chance also.\n",
    "\n",
    "Since i need to play my policy $\\pi_{\\theta}$ to gather state-action sequences, we are implementing an **on-policy** algorithm."
   ]
  },
  {
   "cell_type": "markdown",
   "id": "7b455538-de3b-4b9b-a4e5-1783f3dd7acd",
   "metadata": {},
   "source": [
    "# REINFORCE\n",
    "\n",
    "Recall the policy gradient theorem:\n",
    "<div class=\"alert alert-success\">\n",
    "\n",
    "**Policy gradient**  \n",
    "$$\\nabla_\\theta J(\\theta) \\propto \\mathbb{E}_{\\substack{s\\sim\\rho^\\pi \\\\ a\\sim \\pi}} \\left[ Q^\\pi(s,a) \\nabla_\\theta \\log\\pi(a|s)\\right]$$\n",
    "</div>\n",
    "\n",
    "So, to compute the gradient, we can run the policy within the environment, and this will provide us with states distributed according to $\\rho^\\pi$ and actions distributed according to $\\pi$. The full trajectory of states-actions-rewards provides a Monte Carlo estimate $G_t$ of $Q^\\pi(s_t,a_t)$ from any state $s_t$ traversed by the trajectory. In turn, this allows to estimate $Q^\\pi(s_t,a_t) \\nabla_\\theta \\log \\pi(a_t|s_t)$ for any of these states. The sum over all states provides the gradient estimate.\n",
    "\n",
    "This algorithm, introduced by [Williams (1992)](https://link.springer.com/article/10.1007/BF00992696) is called REINFORCE. It requires a finite-length trajectory and its pseudo-code goes as follows.\n",
    "1. Initialize policy parameter $\\theta$\n",
    "2. Generate a trajectory by playing $\\pi$: $s_0,a_0,r_0,...s_{T}$\n",
    "3. For $t\\in [1, 2, … , T]$:\n",
    "    1. Estimate return $G_t$ (given the whole traj, is it done by solving backward Bellman eq? It seems the answer is yes looking at code of one_gradient_step() function below)\n",
    "    2. Update policy parameter: $\\theta \\leftarrow \\theta + \\alpha G_t \\nabla_\\theta \\log \\pi(a_t|s_t)$"
   ]
  },
  {
   "cell_type": "markdown",
   "id": "d01b69a0-10b7-44a1-8ae1-2f6bf2236170",
   "metadata": {},
   "source": [
    "Modern deep learning libraries don't take gradients as inputs. Instead, they use automated differentiation to compute them for a given expression, given a batch of samples. So we would like to build an objective function such that its gradient estimated on the minibatch composed of the last trajectory's samples $(s,a)$ corresponds to the expression above.\n",
    "\n",
    "So we want to define $\\ell(\\theta)$ such that $-\\nabla_\\theta \\mathbb{E}_{\\substack{s\\sim\\rho^\\pi \\\\ a\\sim \\pi}} \\left[ \\ell(\\theta,s,a) \\right]$ coincides with $\\nabla_\\theta J(\\theta)$. Note that, computationally, the $G_t$ terms are just coefficients in the gradient estimate. So, very simply, taking $\\ell(\\theta) = Q(s,a)\\cdot  \\log \\pi(a|s)$ achieves this goal as long as $Q(s,a)$ is an unbiased estimate of $Q^\\pi(s,a)$. \n",
    "\n",
    "**Super important remark: the loss is not a performance metric.**  \n",
    "In supervised learning, it is a common practice to monitor the empirical risk along training. \n",
    "But $L(\\theta) = -\\mathbb{E}_{\\substack{s\\sim\\rho^\\pi \\\\ a\\sim \\pi}} \\left[ \\ell(\\theta,s,a) \\right]$ is not comparable to the losses one usually encounters in supervised learning in any way!  \n",
    "In particular, $-L(\\theta) \\neq J(\\theta)$. So it makes absolutely no sense monitoring the value of this artificial \"loss\" function along training, and even less interpreting its value as some performance metric. It is *just* an expression whose gradient coincides with the (opposite of the) policy gradient.\n",
    "\n",
    "**On sample efficiency.**  \n",
    "One key feature of policy gradient algorithms is that they are **on-policy**: they require the data to have been collected by the current policy, and discard this data once a gradient step is taken. Although this might seem sample inefficient, it can turn out to be an acceptable compromise if the policy gradient steps take the policy towards good returns quickly enough."
   ]
  },
  {
   "cell_type": "markdown",
   "id": "91550080-e2b1-44d0-817b-8b78580fa619",
   "metadata": {},
   "source": [
    "Let's implement REINFORCE for discrete action spaces.\n",
    "<div class=\"alert alert-warning\">\n",
    "    \n",
    "**Exercise:**  \n",
    "Declare a neural network approximator for a categorical distribution for $\\pi(a|s)$.  \n",
    "The `forward` method should output action probabilities.  \n",
    "Define a `sample_action` method that draws from the actions probabilities in state $s$.  \n",
    "Define a `log_prob` method that returns the log probability of an $(s,a)$ pair.\n",
    "</div>"
   ]
  },
  {
   "cell_type": "code",
   "execution_count": 1,
   "id": "309c495e-568e-4966-bce6-07f6fafb9aa4",
   "metadata": {},
   "outputs": [
    {
     "name": "stdout",
     "output_type": "stream",
     "text": [
      "Requirement already satisfied: torch in c:\\users\\terve\\documents\\info\\s2 mva\\reinforcement learning\\rlclass_mva_fork\\.venv\\lib\\site-packages (2.2.0)\n",
      "Requirement already satisfied: filelock in c:\\users\\terve\\documents\\info\\s2 mva\\reinforcement learning\\rlclass_mva_fork\\.venv\\lib\\site-packages (from torch) (3.13.1)\n",
      "Requirement already satisfied: typing-extensions>=4.8.0 in c:\\users\\terve\\documents\\info\\s2 mva\\reinforcement learning\\rlclass_mva_fork\\.venv\\lib\\site-packages (from torch) (4.9.0)\n",
      "Requirement already satisfied: sympy in c:\\users\\terve\\documents\\info\\s2 mva\\reinforcement learning\\rlclass_mva_fork\\.venv\\lib\\site-packages (from torch) (1.12)\n",
      "Requirement already satisfied: networkx in c:\\users\\terve\\documents\\info\\s2 mva\\reinforcement learning\\rlclass_mva_fork\\.venv\\lib\\site-packages (from torch) (3.2.1)\n",
      "Requirement already satisfied: jinja2 in c:\\users\\terve\\documents\\info\\s2 mva\\reinforcement learning\\rlclass_mva_fork\\.venv\\lib\\site-packages (from torch) (3.1.3)\n",
      "Requirement already satisfied: fsspec in c:\\users\\terve\\documents\\info\\s2 mva\\reinforcement learning\\rlclass_mva_fork\\.venv\\lib\\site-packages (from torch) (2024.2.0)\n",
      "Requirement already satisfied: MarkupSafe>=2.0 in c:\\users\\terve\\documents\\info\\s2 mva\\reinforcement learning\\rlclass_mva_fork\\.venv\\lib\\site-packages (from jinja2->torch) (2.1.5)\n",
      "Requirement already satisfied: mpmath>=0.19 in c:\\users\\terve\\documents\\info\\s2 mva\\reinforcement learning\\rlclass_mva_fork\\.venv\\lib\\site-packages (from sympy->torch) (1.3.0)\n"
     ]
    },
    {
     "name": "stderr",
     "output_type": "stream",
     "text": [
      "\n",
      "[notice] A new release of pip is available: 23.3.2 -> 24.0\n",
      "[notice] To update, run: python.exe -m pip install --upgrade pip\n"
     ]
    },
    {
     "name": "stdout",
     "output_type": "stream",
     "text": [
      "Requirement already satisfied: matplotlib in c:\\users\\terve\\documents\\info\\s2 mva\\reinforcement learning\\rlclass_mva_fork\\.venv\\lib\\site-packages (3.8.3)\n",
      "Requirement already satisfied: contourpy>=1.0.1 in c:\\users\\terve\\documents\\info\\s2 mva\\reinforcement learning\\rlclass_mva_fork\\.venv\\lib\\site-packages (from matplotlib) (1.2.0)\n",
      "Requirement already satisfied: cycler>=0.10 in c:\\users\\terve\\documents\\info\\s2 mva\\reinforcement learning\\rlclass_mva_fork\\.venv\\lib\\site-packages (from matplotlib) (0.12.1)\n",
      "Requirement already satisfied: fonttools>=4.22.0 in c:\\users\\terve\\documents\\info\\s2 mva\\reinforcement learning\\rlclass_mva_fork\\.venv\\lib\\site-packages (from matplotlib) (4.49.0)\n",
      "Requirement already satisfied: kiwisolver>=1.3.1 in c:\\users\\terve\\documents\\info\\s2 mva\\reinforcement learning\\rlclass_mva_fork\\.venv\\lib\\site-packages (from matplotlib) (1.4.5)\n",
      "Requirement already satisfied: numpy<2,>=1.21 in c:\\users\\terve\\documents\\info\\s2 mva\\reinforcement learning\\rlclass_mva_fork\\.venv\\lib\\site-packages (from matplotlib) (1.26.3)\n",
      "Requirement already satisfied: packaging>=20.0 in c:\\users\\terve\\documents\\info\\s2 mva\\reinforcement learning\\rlclass_mva_fork\\.venv\\lib\\site-packages (from matplotlib) (23.2)\n",
      "Requirement already satisfied: pillow>=8 in c:\\users\\terve\\documents\\info\\s2 mva\\reinforcement learning\\rlclass_mva_fork\\.venv\\lib\\site-packages (from matplotlib) (10.2.0)\n",
      "Requirement already satisfied: pyparsing>=2.3.1 in c:\\users\\terve\\documents\\info\\s2 mva\\reinforcement learning\\rlclass_mva_fork\\.venv\\lib\\site-packages (from matplotlib) (3.1.1)\n",
      "Requirement already satisfied: python-dateutil>=2.7 in c:\\users\\terve\\documents\\info\\s2 mva\\reinforcement learning\\rlclass_mva_fork\\.venv\\lib\\site-packages (from matplotlib) (2.8.2)\n",
      "Requirement already satisfied: six>=1.5 in c:\\users\\terve\\documents\\info\\s2 mva\\reinforcement learning\\rlclass_mva_fork\\.venv\\lib\\site-packages (from python-dateutil>=2.7->matplotlib) (1.16.0)\n"
     ]
    },
    {
     "name": "stderr",
     "output_type": "stream",
     "text": [
      "\n",
      "[notice] A new release of pip is available: 23.3.2 -> 24.0\n",
      "[notice] To update, run: python.exe -m pip install --upgrade pip\n"
     ]
    }
   ],
   "source": [
    "!pip install torch\n",
    "!pip install matplotlib"
   ]
  },
  {
   "cell_type": "code",
   "execution_count": 2,
   "id": "77f71429-6009-4ad3-842d-7ce51919a13a",
   "metadata": {},
   "outputs": [],
   "source": [
    "import torch\n",
    "import torch.nn as nn\n",
    "import torch.nn.functional as F\n",
    "from torch.distributions import Categorical\n",
    "\n",
    "device = torch.device(\"cuda\" if torch.cuda.is_available() else \"cpu\")\n",
    "\n",
    "class policyNetwork(nn.Module):\n",
    "    def __init__(self, env):\n",
    "        super().__init__()\n",
    "        state_dim = env.observation_space.shape[0]\n",
    "        n_action = env.action_space.n\n",
    "        self.fc1 = nn.Linear(state_dim, 128)\n",
    "        self.fc2 = nn.Linear(128, n_action)\n",
    "\n",
    "    def forward(self, x):\n",
    "        if x.dim() == 1:\n",
    "            x = x.unsqueeze(dim=0)\n",
    "        x = F.relu(self.fc1(x))\n",
    "        action_scores = self.fc2(x)\n",
    "        return F.softmax(action_scores,dim=1)\n",
    "\n",
    "    def sample_action(self, x):\n",
    "        probabilities = self.forward(x)\n",
    "        action_distribution = Categorical(probabilities)\n",
    "        return action_distribution.sample().item()\n",
    "\n",
    "    def log_prob(self, x, a):\n",
    "        probabilities = self.forward(x)\n",
    "        action_distribution = Categorical(probabilities)\n",
    "        return action_distribution.log_prob(a)"
   ]
  },
  {
   "cell_type": "markdown",
   "id": "57f4dd14-c15b-4937-8c5f-90511d27b57e",
   "metadata": {},
   "source": [
    "<div class=\"alert alert-warning\">\n",
    "    \n",
    "**Exercise:**  \n",
    "Define a class that implements REINFORCE. Instead of drawing a single trajectory as in the pseudo-code above, include an option to draw several trajectories with the same policy. This will better reflect $\\rho^\\pi$ and provide less noisy gradients.\n",
    "</div>"
   ]
  },
  {
   "cell_type": "markdown",
   "id": "785dd33f-436c-44ca-beeb-736efaab0ca7",
   "metadata": {},
   "source": [
    "In this game, we do not set a time horizon limit and just end trajectories when they reach a terminal state, which yields 0 reward."
   ]
  },
  {
   "cell_type": "code",
   "execution_count": 3,
   "id": "760f6951-aba0-42e5-9fd8-ff3bfd43a6ec",
   "metadata": {},
   "outputs": [],
   "source": [
    "import numpy as np\n",
    "import torch\n",
    "import torch.nn as nn\n",
    "import torch.nn.functional as F\n",
    "from tqdm import trange\n",
    "\n",
    "class reinforce_agent:\n",
    "    def __init__(self, config, policy_network):\n",
    "        self.device = \"cuda\" if next(policy_network.parameters()).is_cuda else \"cpu\"\n",
    "        self.scalar_dtype = next(policy_network.parameters()).dtype\n",
    "        self.policy = policy_network\n",
    "        self.gamma = config['gamma'] if 'gamma' in config.keys() else 0.99\n",
    "        lr = config['learning_rate'] if 'learning_rate' in config.keys() else 0.001\n",
    "        self.optimizer = torch.optim.Adam(list(self.policy.parameters()),lr=lr)\n",
    "        self.nb_episodes = config['nb_episodes'] if 'nb_episodes' in config.keys() else 1\n",
    "    \n",
    "    def one_gradient_step(self, env):\n",
    "        # run trajectories until done\n",
    "        episodes_sum_of_rewards = []\n",
    "        states = []\n",
    "        actions = []\n",
    "        returns = []\n",
    "        for ep in range(self.nb_episodes):\n",
    "            x,_ = env.reset()\n",
    "            rewards = []\n",
    "            episode_cum_reward = 0\n",
    "            while(True):\n",
    "                a = self.policy.sample_action(torch.as_tensor(x))\n",
    "                y,r,done,trunc,_ = env.step(a)\n",
    "                states.append(x)\n",
    "                actions.append(a)\n",
    "                rewards.append(r)\n",
    "                episode_cum_reward += r\n",
    "                x=y\n",
    "                if done: \n",
    "                    # truncation of trajectory is True when we have reached time horizon limit.\n",
    "                    # The condition above should actually be \"done or trunc\" so that we \n",
    "                    # terminate the rollout also if trunc=True.\n",
    "                    # But then, our return-to-go computation would be biased as we would \n",
    "                    # implicitly assume no rewards can be obtained after truncation, which \n",
    "                    # is wrong.\n",
    "                    # We leave it as is for now (which means we will call .step() even \n",
    "                    # after trunc=True) and will discuss it later.\n",
    "                    # Compute returns-to-go\n",
    "                    new_returns = []\n",
    "                    G_t = 0\n",
    "                    for r in reversed(rewards):\n",
    "                        # solve backward Bellman equation\n",
    "                        G_t = r + self.gamma * G_t\n",
    "                        new_returns.append(G_t)\n",
    "                    new_returns = list(reversed(new_returns))\n",
    "                    returns.extend(new_returns)\n",
    "                    episodes_sum_of_rewards.append(episode_cum_reward)\n",
    "                    break\n",
    "        # make loss\n",
    "        returns = torch.tensor(returns)\n",
    "        log_prob = self.policy.log_prob(torch.as_tensor(np.array(states)),torch.as_tensor(np.array(actions)))\n",
    "        loss = -(returns * log_prob).mean()\n",
    "        # gradient step\n",
    "        self.optimizer.zero_grad()\n",
    "        loss.backward()\n",
    "        self.optimizer.step()\n",
    "        return np.mean(episodes_sum_of_rewards)\n",
    "\n",
    "    def train(self, env, nb_rollouts):\n",
    "        avg_sum_rewards = []\n",
    "        for ep in trange(nb_rollouts):\n",
    "            avg_sum_rewards.append(self.one_gradient_step(env))\n",
    "        return avg_sum_rewards"
   ]
  },
  {
   "cell_type": "markdown",
   "id": "41c7c7a8-3cd7-4294-aaeb-62c0f42e248f",
   "metadata": {},
   "source": [
    "<div class=\"alert alert-warning\">\n",
    "    \n",
    "**Exercise:**  \n",
    "Run your agent for 50 gradient steps on `CartPole-v1`, drawing 10 episodes at each step.  \n",
    "Experiment with another number of episodes and vary the gradient step size.\n",
    "</div>"
   ]
  },
  {
   "cell_type": "code",
   "execution_count": 4,
   "id": "51a0c209-97bd-49fd-9dad-c08d6abb3a62",
   "metadata": {},
   "outputs": [
    {
     "name": "stderr",
     "output_type": "stream",
     "text": [
      "100%|██████████| 50/50 [00:29<00:00,  1.67it/s]\n"
     ]
    },
    {
     "data": {
      "text/plain": [
       "[<matplotlib.lines.Line2D at 0x187065e59f0>]"
      ]
     },
     "execution_count": 4,
     "metadata": {},
     "output_type": "execute_result"
    },
    {
     "data": {
      "image/png": "[encoded data removed]",
      "text/plain": [
       "<Figure size 640x480 with 1 Axes>"
      ]
     },
     "metadata": {},
     "output_type": "display_data"
    }
   ],
   "source": [
    "import gymnasium as gym\n",
    "import matplotlib.pyplot as plt\n",
    "\n",
    "#env = gym.make(\"LunarLander-v2\", render_mode=\"rgb_array\")\n",
    "env = gym.make('CartPole-v1', render_mode=\"rgb_array\")\n",
    "config = {'gamma': .99,\n",
    "          'learning_rate': 0.01,\n",
    "          'nb_episodes': 10\n",
    "         }\n",
    "\n",
    "pi = policyNetwork(env)\n",
    "agent = reinforce_agent(config, pi)\n",
    "returns = agent.train(env,50)\n",
    "plt.plot(returns)"
   ]
  },
  {
   "cell_type": "code",
   "execution_count": 5,
   "id": "afc5fd86-13c3-42c9-8367-80a626655463",
   "metadata": {},
   "outputs": [
    {
     "name": "stdout",
     "output_type": "stream",
     "text": [
      "Requirement already satisfied: pygame in c:\\users\\terve\\documents\\info\\s2 mva\\reinforcement learning\\rlclass_mva_fork\\.venv\\lib\\site-packages (2.5.2)\n"
     ]
    },
    {
     "name": "stderr",
     "output_type": "stream",
     "text": [
      "\n",
      "[notice] A new release of pip is available: 23.3.2 -> 24.0\n",
      "[notice] To update, run: python.exe -m pip install --upgrade pip\n"
     ]
    }
   ],
   "source": [
    "!pip install pygame"
   ]
  },
  {
   "cell_type": "code",
   "execution_count": 6,
   "id": "0827e2da-5f69-4723-81ab-c2be40317fcd",
   "metadata": {},
   "outputs": [
    {
     "name": "stdout",
     "output_type": "stream",
     "text": [
      "Moviepy - Building video c:\\Users\\terve\\Documents\\Info\\S2 MVA\\Reinforcement Learning\\RLclass_MVA_fork\\notebooks\\videos/reinforce_policy-episode-0.mp4.\n",
      "Moviepy - Writing video c:\\Users\\terve\\Documents\\Info\\S2 MVA\\Reinforcement Learning\\RLclass_MVA_fork\\notebooks\\videos/reinforce_policy-episode-0.mp4\n",
      "\n"
     ]
    },
    {
     "name": "stderr",
     "output_type": "stream",
     "text": [
      "                                                               "
     ]
    },
    {
     "name": "stdout",
     "output_type": "stream",
     "text": [
      "Moviepy - Done !\n",
      "Moviepy - video ready c:\\Users\\terve\\Documents\\Info\\S2 MVA\\Reinforcement Learning\\RLclass_MVA_fork\\notebooks\\videos/reinforce_policy-episode-0.mp4\n"
     ]
    },
    {
     "name": "stderr",
     "output_type": "stream",
     "text": [
      "\r"
     ]
    }
   ],
   "source": [
    "import gymnasium as gym\n",
    "from gymnasium.utils.save_video import save_video\n",
    "\n",
    "#test_env = gym.make(\"LunarLander-v2\", render_mode=\"rgb_array_list\")\n",
    "test_env = gym.make(\"CartPole-v1\", render_mode=\"rgb_array_list\")\n",
    "s,_ = test_env.reset()\n",
    "with torch.no_grad():\n",
    "    for t in range(1000):\n",
    "        a = pi.sample_action(torch.as_tensor(s))\n",
    "        s2,r,d,trunc,_ = test_env.step(a)\n",
    "        s = s2\n",
    "        if d:\n",
    "            break\n",
    "\n",
    "save_video(test_env.render(), \"videos\", fps=test_env.metadata[\"render_fps\"], name_prefix=\"reinforce_policy\")"
   ]
  },
  {
   "cell_type": "code",
   "execution_count": 7,
   "id": "e8c1aed4-e7b1-45e8-af8f-19bd26157b0d",
   "metadata": {},
   "outputs": [
    {
     "data": {
      "text/html": [
       "<video src=\"videos/reinforce_policy-episode-0.mp4\" controls  >\n",
       "      Your browser does not support the <code>video</code> element.\n",
       "    </video>"
      ],
      "text/plain": [
       "<IPython.core.display.Video object>"
      ]
     },
     "execution_count": 7,
     "metadata": {},
     "output_type": "execute_result"
    }
   ],
   "source": [
    "from IPython.display import Video\n",
    "Video(\"videos/reinforce_policy-episode-0.mp4\")"
   ]
  },
  {
   "cell_type": "markdown",
   "id": "477711f2-0f4b-4375-83dc-cf35a3b7ffc5",
   "metadata": {},
   "source": [
    "**Comment on the behavior of policy gradient methods (based on the CartPole example).**\n",
    "\n",
    "One very interesting feature of policy gradient methods, compared to dynamic programming ones, is that they take a somewhat more pragmatic  and easier approach at policy improvement.\n",
    "\n",
    "Policy gradients make the policy better by reinforcing good actions in visited states, and discouraging actions that led to bad outcomes. In CartPole, this means that exiting the screen on either side will be penalized as much as falling. This happens quite early in the optimization process: as soon as the policy balances the pole, it starts to drift towards the sides of the screen, gets this negative reward, and hence reinforces actions that keep the cart within the screen (the fact that we draw several trajectories for each policy helps a lot for that matter since it enables comparing different actions and reinforcing the ones which belonged to better trajectories).\n",
    "\n",
    "Converserly, maybe you remember DQN did a great job at quickly learning how to balance the pole, but wasn't so great at avoiding drifting to the edges of the screen. The key difference is that DQN stored all past experience and that exiting from the side ended up being a rather rare situation within the replay buffer. Also, DQN needed to propagate these bad rewards through the value function (a task greatly enhanced by methods like prioritized experience replay), which is done immediately in REINFORCE because $G_t$ is a Monte Carlo estimator, not a TD(0) one.\n",
    "\n",
    "So maybe, with ADP methods, we had set up a task that was excessively difficult. The ADP approach is elegant and sample efficient (it retains a long-term memory of samples and solves for the optimal $Q$ value for *all* state and action pairs. But maybe this was more than what was necessary: a local search among policy parameters, without retaining a memory of past experience, but instead local comparison of trajectories and reinforcement of good ones, might be sufficient to achieve efficient learning."
   ]
  },
  {
   "cell_type": "markdown",
   "id": "91544b34-5c06-45d5-9424-46b4916afafc",
   "metadata": {},
   "source": [
    "<div class=\"alert alert-warning\">\n",
    "    \n",
    "**Exercise:**  \n",
    "The code above is slightly inefficient as it passes each state through the network twice: one when drawing the action (`sample_action`), the other when computing log probabilities (`log_prob`). This is not critical as the latter is a batched version of this forward pass, but still, we can optimize this a bit. Make this a bit more elegant by writing a `sample_action_and_log_prob` function in the `reinforce_agent` class, which jointly draws the action and computes its log probability, enabling storing the log probabilities along training.\n",
    "</div>"
   ]
  },
  {
   "cell_type": "code",
   "execution_count": 8,
   "id": "1d797ec8-ab32-4779-86de-714055e0befc",
   "metadata": {},
   "outputs": [],
   "source": [
    "import numpy as np\n",
    "import torch\n",
    "import torch.nn as nn\n",
    "import torch.nn.functional as F\n",
    "from tqdm import trange\n",
    "\n",
    "class reinforce_agent:\n",
    "    def __init__(self, config, policy_network):\n",
    "        self.device = \"cuda\" if next(policy_network.parameters()).is_cuda else \"cpu\"\n",
    "        self.scalar_dtype = next(policy_network.parameters()).dtype\n",
    "        self.policy = policy_network\n",
    "        self.gamma = config['gamma'] if 'gamma' in config.keys() else 0.99\n",
    "        lr = config['learning_rate'] if 'learning_rate' in config.keys() else 0.001\n",
    "        self.optimizer = torch.optim.Adam(list(self.policy.parameters()),lr=lr)\n",
    "        self.nb_episodes = config['nb_episodes'] if 'nb_episodes' in config.keys() else 1\n",
    "\n",
    "    def sample_action_and_log_prob(self, x):\n",
    "        probabilities = self.policy(torch.as_tensor(x))\n",
    "        action_distribution = Categorical(probabilities)\n",
    "        action = action_distribution.sample()\n",
    "        log_prob = action_distribution.log_prob(action)\n",
    "        return action.item(), log_prob\n",
    "    \n",
    "    def one_gradient_step(self, env):\n",
    "        # run trajectories until done\n",
    "        episodes_sum_of_rewards = []\n",
    "        log_probs = []\n",
    "        returns = []\n",
    "        for ep in range(self.nb_episodes):\n",
    "            x,_ = env.reset()\n",
    "            rewards = []\n",
    "            episode_cum_reward = 0\n",
    "            while(True):\n",
    "                a, log_prob = self.sample_action_and_log_prob(x)\n",
    "                y,r,d,_,_ = env.step(a)\n",
    "                log_probs.append(log_prob)\n",
    "                rewards.append(r)\n",
    "                episode_cum_reward += r\n",
    "                x=y\n",
    "                if d:\n",
    "                    # compute returns-to-go\n",
    "                    new_returns = []\n",
    "                    G_t = 0\n",
    "                    for r in reversed(rewards):\n",
    "                        G_t = r + self.gamma * G_t\n",
    "                        new_returns.append(G_t)\n",
    "                    new_returns = list(reversed(new_returns))\n",
    "                    returns.extend(new_returns)\n",
    "                    episodes_sum_of_rewards.append(episode_cum_reward)\n",
    "                    break\n",
    "        # make loss\n",
    "        returns = torch.tensor(returns)\n",
    "        log_probs = torch.cat(log_probs)\n",
    "        loss = -(returns * log_probs).mean()\n",
    "        # gradient step\n",
    "        self.optimizer.zero_grad()\n",
    "        loss.backward()\n",
    "        self.optimizer.step()\n",
    "        return np.mean(episodes_sum_of_rewards)\n",
    "\n",
    "    def train(self, env, nb_rollouts):\n",
    "        avg_sum_rewards = []\n",
    "        for ep in trange(nb_rollouts):\n",
    "            avg_sum_rewards.append(self.one_gradient_step(env))\n",
    "        return avg_sum_rewards"
   ]
  },
  {
   "cell_type": "code",
   "execution_count": 9,
   "id": "c3684a5e-5e6e-4132-9267-9745c2e46a9c",
   "metadata": {},
   "outputs": [
    {
     "name": "stderr",
     "output_type": "stream",
     "text": [
      "100%|██████████| 50/50 [02:14<00:00,  2.70s/it]\n"
     ]
    },
    {
     "data": {
      "text/plain": [
       "[<matplotlib.lines.Line2D at 0x1871011c100>]"
      ]
     },
     "execution_count": 9,
     "metadata": {},
     "output_type": "execute_result"
    },
    {
     "data": {
      "image/png": "[encoded data removed]",
      "text/plain": [
       "<Figure size 640x480 with 1 Axes>"
      ]
     },
     "metadata": {},
     "output_type": "display_data"
    }
   ],
   "source": [
    "import gymnasium as gym\n",
    "import matplotlib.pyplot as plt\n",
    "\n",
    "#env = gym.make(\"LunarLander-v2\", render_mode=\"rgb_array\")\n",
    "env = gym.make('CartPole-v1', render_mode=\"rgb_array\")\n",
    "config = {'gamma': .99,\n",
    "          'learning_rate': 0.01,\n",
    "          'nb_episodes': 10\n",
    "         }\n",
    "\n",
    "pi = policyNetwork(env)\n",
    "agent = reinforce_agent(config, pi)\n",
    "returns = agent.train(env,50)\n",
    "plt.plot(returns)"
   ]
  },
  {
   "cell_type": "markdown",
   "id": "5abb18f8-66b4-4d78-bbe2-7a77269774d4",
   "metadata": {},
   "source": [
    "**The problem of rollout terminations.**\n",
    "\n",
    "One weakness of REINFORCE is that it requires trajectories that terminate in finite time. This was reasonable enough in the previous example as we let the environment run until `done=True`, but this does not happen in all MDPs. Some environments have no particular termination condition. When we instantiate such environments, we generally set a time limit, but this does not constitute a termination condition, rather a trajectory truncation one. In particular, a Monte Carlo estimate of $Q^\\pi(s,a)$ based on a truncated trajectory might be very biased if $s,a$ is encountered at a time step close to the time limit.\n",
    "\n",
    "With this problem, we reach the limit of Monte Carlo evaluations. In previous chapters, to counter this problem, we have introduced value function estimators and bootstrapping (TD learning of Q-functions being the off-policy, 1-step bootstraping version)."
   ]
  },
  {
   "cell_type": "markdown",
   "id": "bb015050-8c21-4bb6-81b0-91a9fb0e4869",
   "metadata": {},
   "source": [
    "# Actor-critic algorithms \n",
    "(subset of actor-critic architectures)\n",
    "## Introducing a critic\n",
    "\n",
    "Recall that REINFORCE uses a Monte Carlo estimate of the policy gradient. With a slight notation abuse, we have:\n",
    "<div class=\"alert alert-success\">\n",
    "\n",
    "**REINFORCE:**\n",
    "$$\\tilde{\\nabla}_\\theta J(\\theta) = \\mathbb{E}_{\\substack{s\\sim\\rho^\\pi \\\\ a\\sim \\pi}} \\left[ G_t \\nabla_\\theta \\log\\pi(a|s)\\right]$$\n",
    "</div>\n",
    "\n",
    "**Actor-critic algorithms**  \n",
    "Suppose now that we don't want a Monte Carlo estimate of $Q^\\pi(s,a)$ in the Policy Gradient theorem, and are rather willing to store a function approximator $Q_w$ for $Q^\\pi(s,a)$. This leads us to store both a policy $\\pi_\\theta$ and a value function $Q_w$. The value function *criticizes* the policy's selected actions by assigning numerical values to them, hence the names of *critic* and *actor*. So **actor-critic algorithms are policy gradient algorithms that use an actor-critic architecture** (remember: the opposite is not necessarily true).\n",
    "\n",
    "The $Q_w$ function of the critic can be learned as a risk minimization problem (eg. a least squares fitting problem), using temporal differences. Note that although this learning is off-policy, the data collection for the application of the policy gradient theorem still requires on-policy data.\n",
    "\n",
    "This defines the Q actor-critic algorithm:\n",
    "<div class=\"alert alert-success\">\n",
    "\n",
    "**Q actor-critic:**\n",
    "$$\\tilde{\\nabla}_\\theta J(\\theta) = \\mathbb{E}_{\\substack{s\\sim\\rho^\\pi \\\\ a\\sim \\pi}} \\left[ Q_w(s,a) \\nabla_\\theta \\log\\pi(a|s)\\right]$$\n",
    "</div>"
   ]
  },
  {
   "cell_type": "markdown",
   "id": "495bd5f9-446b-49d1-9f55-3b59543cdf5a",
   "metadata": {},
   "source": [
    "## Baselines in policy gradients"
   ]
  },
  {
   "cell_type": "markdown",
   "id": "e3a8ca6f-0bb6-4ad3-89b7-6b3948522871",
   "metadata": {},
   "source": [
    "**Finite sample gradient estimator variance**\n",
    "\n",
    "The policy gradient features a somehow counter-intuitive property for finite sample estimators.  \n",
    "Suppose we have 3 samples drawn according to $\\rho^\\pi$ and $\\pi$, with, $Q(s_0,a_0) = 1$, $Q(s_1,a_1) = 10$, and $Q(s_2,a_2) = 1$.\n",
    "\n",
    "For the sake of brevity, let's write $\\nabla_i = \\nabla_\\theta \\log \\pi(a_i|s_i)$. \n",
    "So the finite sample Monte Carlo estimator for $\\nabla_\\theta J(\\theta)$ is:\n",
    "$$1\\nabla_0 + 10\\nabla_1 + 1\\nabla_2.$$\n",
    "\n",
    "Following this update of $\\theta$, we will hopefully see trajectories go through $s_1,a_1$ a lot more often, and through $s_0,a_0$ and $s_2,a_2$ a little bit more often.\n",
    "\n",
    "Now recall the expected grad-log-prob lemma: we can substract any action-independent *baseline* $b(s)$ from the estimate of $Q^\\pi(s,a)$ and still obtain an unbiased estimate of $\\nabla_\\theta J(\\theta)$, because $\\mathbb{E}_{\\substack{s\\sim\\rho^\\pi \\\\ a\\sim \\pi}} \\left[b(s) \\nabla_\\theta \\log\\pi(a|s) \\right]=0$:\n",
    "$$\\nabla_\\theta J(\\theta) \\propto \\mathbb{E}_{\\substack{s\\sim\\rho^\\pi \\\\ a\\sim \\pi}} \\left[ \\left( Q^\\pi(s,a) -b(s) \\right) \\nabla_\\theta \\log\\pi(a|s)\\right].$$\n",
    "\n",
    "Let's add a constant value of $b(s)=-1$ to all returns. Then our finite sample estimate becomes:\n",
    "$$9\\nabla_1.$$\n",
    "Let's use $b(s)=-10$.  Then our estimated ascent direction is:\n",
    "$$-9\\nabla_0 -9\\nabla_2.$$\n",
    "Conversely, let's add 20 to all returns. Then the estimate gradient is:\n",
    "$$21 \\nabla_0 + 30\\nabla_1 + 21\\nabla_2.$$\n",
    "\n",
    "We have not changed our MDP, nor our policy, but the gradient estimate is drastically different, both in norm and in direction! So what has happened?\n",
    "\n",
    "What has happened is that we have a **finite** sample of states and actions. The baseline $b(s)$ does not affect the gradient estimate's average in the limit of **infinite** sampling. But depending on the baseline's value, the finite sample estimator will have more or less **variance**.\n",
    "\n",
    "In the previous example, if we augment the probability of $a$ in a given $s$, then we need to decrease it for another $a'$. If this other $a'$ has not been sampled, then its $\\nabla\\theta \\log\\pi_\\theta(a'|s)$ cannot participate in the estimated ascent direction which might be off just because it strongly depends on which sample set was drawn.\n",
    "\n",
    "Ideally, we would like to find a baseline which minimizes variance of the estimator, so that whatever finite sample set we draw, we have a good chance of having a good quality gradient estimate."
   ]
  },
  {
   "cell_type": "markdown",
   "id": "42143dbb-d19f-4172-82f8-49465c30d47d",
   "metadata": {},
   "source": [
    "**An optimal baseline?**\n",
    "\n",
    "Let's search for an optimal baseline $b(s)$ in each state, by writing the variance of the gradient estimate. In each state $s$, we write:\n",
    "$$d(s) = \\mathbb{E}_{a\\sim \\pi} \\left[ \\left( Q^\\pi(s,a) - b(s) \\right) \\nabla_\\theta \\log\\pi(a|s)\\right].$$\n",
    "As stated before, the estimated ascent direction is $\\mathbb{E}_{s\\sim \\rho^\\pi} [d(s)]$.\n",
    "\n",
    "To simplify notations, we will drop all mentions of $s$ ($s$ is fixed), and will write $\\nabla(a)$ for $\\nabla_\\theta \\log\\pi(a|s)$. Let us define a proxy for the variance of vector $d$:\n",
    "$$Var[d] = \\mathbb{E}_{a\\sim \\pi} \\left[ \\left( Q^\\pi(a)-b \\right)^2 \\nabla(a)^2 \\right] - \\left[ \\mathbb{E}_{a\\sim \\pi} \\left[ \\left( Q^\\pi(a)-b \\right) \\nabla(a) \\right] \\right]^2.$$\n",
    "(this is related to the trace of the covariance matrix but we won't go into details on that for now)\n",
    "\n",
    "We wish to find $b$ that minimizes $Var[d]$. A first remark is that the second term is actually equal to $\\left[ \\mathbb{E}_{a\\sim \\pi} \\left[ \\left( Q^\\pi(a) \\right) \\nabla(a) \\right] \\right]^2$ and does not depend on $b$. We get that:\n",
    "\\begin{align*}\n",
    "\\frac{\\mathrm{d} Var[d]}{\\mathrm{d}b} &= \\frac{\\mathrm{d}}{\\mathrm{d}b} \\mathbb{E}_{a\\sim \\pi} \\left[ \\left( Q^\\pi(a)-b \\right)^2 \\nabla(a)^2 \\right],\\\\\n",
    " &= \\frac{\\mathrm{d}}{\\mathrm{d}b} \\Big[\\mathbb{E}_{a\\sim \\pi} \\left[Q^\\pi(a)^2 \\nabla(a)^2\\right] -2 b\\mathbb{E}_{a\\sim \\pi} \\left[Q^\\pi(a) \\nabla(a)\\right] + b^2 \\mathbb{E}_{a\\sim \\pi} \\left[\\nabla(a)^2\\right] \\Big],\\\\\n",
    " &= -2 \\mathbb{E}_{a\\sim \\pi} \\left[Q^\\pi(a) \\nabla(a)^2\\right] + 2 \\mathbb{E}_{a\\sim \\pi} \\left[b\\nabla(a)^2\\right].\n",
    "\\end{align*}\n",
    "\n",
    "And so the value that cancels this gradient is:\n",
    "$$b = \\frac{\\mathbb{E}_{a\\sim \\pi} \\left[Q^\\pi(a) \\nabla(a)^2\\right]}{\\mathbb{E}_{a\\sim \\pi} \\left[\\nabla(a)^2\\right]}.$$\n",
    "\n",
    "Suppose $\\nabla(a)^2$ is evenly distributed for all $a$. Then this fraction boils down to $b = \\mathbb{E}_{a\\sim \\pi} \\left[Q^\\pi(a)\\right]$, which means $b(s) = V^\\pi(s)$. \n",
    "\n",
    "But there is no reason for $\\nabla(a)^2$ is evenly distributed for all $a$. The optimal baseline $b(s)$ is a weighted average across actions of $Q^\\pi(s,a)$ but with actions sampled according to a distribution which depends both on $\\pi(a|s)$ and $\\nabla_\\theta \\log\\pi(a|s)$. In other words: it's almost $V^\\pi(s)$ but instead of weighting every action with $\\pi(a|s)$, it is additionally weighted by the norm of the gradient of the policy's log probabilities."
   ]
  },
  {
   "cell_type": "markdown",
   "id": "6815ff92-f505-4a2c-9443-41a9a770e3fe",
   "metadata": {},
   "source": [
    "**The value function as a baseline**\n",
    "\n",
    "Although it is not optimal, a close enough choice for a baseline is the policy's value function $V^\\pi$. This introduces an *advantage* estimation problem within policy gradient algorithms, where the advantage is the function defined as:$$A^\\pi(s,a) = Q^\\pi(s,a) - V^\\pi(s).$$\n",
    "\n",
    "Remember that $Q^\\pi(s,a) = \\mathbb{E}_{s'\\sim p(s,a)} [r(s,a,s') + \\gamma V^\\pi(s')]$. So, given a sample $(s,a,r,s')$, a sample estimate of the advantage function is $r + \\gamma V^\\pi(s') - V^\\pi(s)$. So learning $V^\\pi$ provides a way to obtain sample estimates of the advantage function.\n",
    "\n",
    "This yields the advantage actor critic algorithm:\n",
    "<div class=\"alert alert-success\">\n",
    "\n",
    "**Advantage actor-critic:**\n",
    "$$\\tilde{\\nabla}_\\theta J(\\theta) = \\mathbb{E}_{\\substack{s\\sim\\rho^\\pi \\\\ a\\sim \\pi}} \\left[ A_w(s,a) \\nabla_\\theta \\log\\pi(a|s)\\right]$$\n",
    "$$\\tilde{\\nabla}_\\theta J(\\theta) = \\mathbb{E}_{\\substack{s\\sim\\rho^\\pi \\\\ a\\sim \\pi}} \\left[ \\mathbb{E}_{s'\\sim p(s,a)} \\left[r(s,a,s') + \\gamma V_w(s') - V_w(s)\\right] \\nabla_\\theta \\log\\pi(a|s)\\right]$$\n",
    "</div>"
   ]
  },
  {
   "cell_type": "markdown",
   "id": "8daa9795-dd0b-4912-8b62-3b7ed16d7c79",
   "metadata": {},
   "source": [
    "Remark that the temporal difference at each time step $\\delta = r + \\gamma V^\\pi(s') - V^\\pi(s)$ is an estimate of the advantage $A^\\pi(s,a)$. Using this remark, a simple one-step advantage actor-critic method based on TD(0) and a value function $V_w$ goes as follows:\n",
    "1. In $s$, draw $a \\sim \\pi$\n",
    "2. Observe $r, s'$\n",
    "3. Compute $\\delta = r + \\gamma V_w(s') - V_w(s)$\n",
    "4. Update critic's parameters (TD(0) step) $w \\leftarrow w + \\alpha \\delta \\nabla_w V_w(s)$\n",
    "5. Update actor's parameters (policy gradient theorem) $\\theta \\leftarrow \\theta + \\alpha \\delta \\nabla_\\theta \\log \\pi(a|s)$\n",
    "6. $s\\leftarrow s'$ and repeat\n",
    "\n",
    "This directly translates into a batch algorithm:\n",
    "1. Sample trajectories $\\{s_t,a_t,r_t,s'_t\\}$ from $\\pi$\n",
    "2. Fit $V_w$ to the (bootstrapped) returns $r_t + \\gamma V_w(s'_t)$\n",
    "3. Get advantage $A(s_t,a_t) = r_t + \\gamma V_w(s'_t) - V_w(s_t)$\n",
    "4. Update policy using ascent direction $\\sum_t A(s_t,a_t) \\nabla_\\theta \\log \\pi(a_t|s_t)$\n",
    "\n",
    "An interesting feature of this algorithm is that it does not require to store experience samples from past policies. Since fitting of $V_w$ is an on-policy problem, it operates on the last collected batch of samples and does not retain the experience replay buffers we encountered with ADP methods.\n",
    "\n",
    "Overfitting of $V_w$ to the samples it is trained upon is not an issue since $V_w$ will only ever be evaluated on these same samples.\n",
    "\n",
    "To reduce the bias in learning $V_w$, instead of one-step targets $r_t + \\gamma V_w(s'_t)$, one can store and use n-step returns $\\sum_{t'=t}^{t+n-1} \\gamma^{t'-t} r_{t'} + \\gamma^{n} V_w(s'_{t+n-1})$ for each $s_i$."
   ]
  },
  {
   "cell_type": "markdown",
   "id": "514bc5cb-278a-4a72-a51f-51ba17acf2c0",
   "metadata": {},
   "source": [
    "## A2C: Deep Advantage Actor-Critic\n",
    "\n",
    "In 2016, Mnih et al. introduced a set of algorithms using asynchronous environments in the **[Asynchronous Methods for Deep Reinforcement Learning](https://arxiv.org/abs/1602.01783)** paper. Among these methods, one is called A3C for Asynchronous Advantage Actor-Critic. \n",
    "In a nutshell, A3C is an advantage actor-critic method where multiple policy workers in parallel environments independently update a global value function. One supposed key benefit of having asynchronous actors was to promote exploration of the state space. It later turned out, the full asynchronicity of independent policies did not bring a significant performance advantage while inducing some computational overhead. A2C is A3C's little sibling, using a single (hence synchronous) policy.\n",
    "\n",
    "At each policy update step, A2C runs a number of rollouts with $\\pi_\\theta$, collecting samples.\n",
    "\n",
    "It uses bootstrapped Monte Carlo returns to estimate the advantage in each state-action pair:\n",
    "$$A(s_t,a_t;w) = \\sum_{t'=t}^{T-1} \\gamma^{t'-t} r_{t'} + \\gamma^{T-t} V_w(s_{t+T}) - V_w(s_t),$$\n",
    "where $T$ is the termination time of a rollout.\n",
    "\n",
    "The value function learning takes a gradient step to minimize:\n",
    "$$L(w) = \\sum_t A(s_t,a_t;w)^2.$$\n",
    "\n",
    "The policy learning step takes a gradient step to maximize:\n",
    "$$L(\\theta)=\\sum_t \\left[ A(s_t,a_t;w) \\nabla_\\theta \\log \\pi_\\theta(a_t|s_t) + \\beta \\nabla_\\theta \\mathcal{H}(\\pi_\\theta(s_t) \\right].$$\n",
    "The first term in this sum is the usual policy gradient. The second one is the entropy of the policy. The intention is to promote exploration by retaining randomness in the policy.\n",
    "\n",
    "So, in short, A2C's pseudo code is:\n",
    "1. Collect trajectories $\\{s_t,a_t,r_t,s'_t\\}$ from $\\pi$\n",
    "2. Define $A(s_t,a_t;w) = \\sum_{t'=t}^{T-1} \\gamma^{t'-t} r_{t'} + \\gamma^{T-t} V_w(s_{t+T}) - V_w(s_t)$\n",
    "3. Take a gradient descent step on $L(w)$ and a gradient ascent step on $L(\\theta)$.\n",
    "\n",
    "<div class=\"alert alert-warning\">\n",
    "    \n",
    "**Exercise:**  \n",
    "Declare a critic network.\n",
    "</div>"
   ]
  },
  {
   "cell_type": "code",
   "execution_count": 10,
   "id": "4b99bdc1-fa2c-4fe0-b670-42c3d44b471d",
   "metadata": {},
   "outputs": [],
   "source": [
    "import torch\n",
    "import torch.nn as nn\n",
    "import torch.nn.functional as F\n",
    "from torch.distributions import Categorical\n",
    "\n",
    "device = torch.device(\"cuda\" if torch.cuda.is_available() else \"cpu\")\n",
    "\n",
    "class valueNetwork(nn.Module):\n",
    "    def __init__(self, env):\n",
    "        super().__init__()\n",
    "        state_dim = env.observation_space.shape[0]\n",
    "        n_action = env.action_space.n\n",
    "        self.fc1 = nn.Linear(state_dim, 128)\n",
    "        self.fc2 = nn.Linear(128, 1)\n",
    "\n",
    "    def forward(self, x):\n",
    "        if x.dim() == 1:\n",
    "            x = x.unsqueeze(dim=0)\n",
    "        x = F.relu(self.fc1(x))\n",
    "        return self.fc2(x)"
   ]
  },
  {
   "cell_type": "markdown",
   "id": "f171a971-6013-4701-bcf1-369f5663118a",
   "metadata": {},
   "source": [
    "<div class=\"alert alert-warning\">\n",
    "    \n",
    "**Exercise:**  \n",
    "Implement an A2C algorithm.\n",
    "</div>"
   ]
  },
  {
   "cell_type": "code",
   "execution_count": 11,
   "id": "6c5078d5-8092-47ad-84ac-d3e99dc19926",
   "metadata": {},
   "outputs": [],
   "source": [
    "import numpy as np\n",
    "import torch\n",
    "import torch.nn as nn\n",
    "import torch.nn.functional as F\n",
    "from tqdm import trange\n",
    "\n",
    "class a2c_agent:\n",
    "    def __init__(self, config, policy_network, value_network):\n",
    "        self.device = \"cuda\" if next(policy_network.parameters()).is_cuda else \"cpu\"\n",
    "        self.scalar_dtype = next(policy_network.parameters()).dtype\n",
    "        self.policy = policy_network\n",
    "        self.value = value_network\n",
    "        self.gamma = config['gamma'] if 'gamma' in config.keys() else 0.99\n",
    "        lr = config['learning_rate'] if 'learning_rate' in config.keys() else 0.001\n",
    "        self.optimizer = torch.optim.Adam(list(self.policy.parameters()) + list(self.value.parameters()),lr=lr)\n",
    "        self.nb_episodes = config['nb_episodes'] if 'nb_episodes' in config.keys() else 1\n",
    "        self.entropy_coefficient = config['entropy_coefficient'] if 'entropy_coefficient' in config.keys() else 0.001\n",
    "\n",
    "    def sample_action(self, x):\n",
    "        probabilities = self.policy(torch.as_tensor(x))\n",
    "        action_distribution = Categorical(probabilities)\n",
    "        action = action_distribution.sample()\n",
    "        log_prob = action_distribution.log_prob(action)\n",
    "        entropy = action_distribution.entropy()\n",
    "        return action.item(), log_prob, entropy\n",
    "    \n",
    "    def one_gradient_step(self, env):\n",
    "        # run trajectories until done\n",
    "        episodes_sum_of_rewards = []\n",
    "        log_probs = []\n",
    "        returns = []\n",
    "        values = []\n",
    "        entropies = []\n",
    "        for ep in range(self.nb_episodes):\n",
    "            x,_ = env.reset()\n",
    "            rewards = []\n",
    "            episode_cum_reward = 0\n",
    "            while(True):\n",
    "                a, log_prob, entropy = self.sample_action(x)\n",
    "                y,r,d,trunc,_ = env.step(a)\n",
    "                values.append(self.value(torch.as_tensor(x)).squeeze(dim=0))\n",
    "                log_probs.append(log_prob)\n",
    "                entropies.append(entropy)\n",
    "                rewards.append(r)\n",
    "                episode_cum_reward += r\n",
    "                x=y\n",
    "                if d or trunc:\n",
    "                    # compute returns-to-go\n",
    "                    new_returns = []\n",
    "                    G_t = self.value(torch.as_tensor(x)).squeeze(dim=0)\n",
    "                    for r in reversed(rewards):\n",
    "                        G_t = r + self.gamma * G_t\n",
    "                        new_returns.append(G_t)\n",
    "                    new_returns = list(reversed(new_returns))\n",
    "                    returns.extend(new_returns)\n",
    "                    episodes_sum_of_rewards.append(episode_cum_reward)\n",
    "                    break\n",
    "        # make loss        \n",
    "        returns = torch.cat(returns)\n",
    "        values = torch.cat(values)\n",
    "        log_probs = torch.cat(log_probs)\n",
    "        entropies = torch.cat(entropies)\n",
    "        advantages = returns - values\n",
    "        pg_loss = -(advantages.detach() * log_probs).mean()\n",
    "        entropy_loss = -entropies.mean()\n",
    "        critic_loss = advantages.pow(2).mean()\n",
    "        loss = pg_loss + critic_loss + self.entropy_coefficient * entropy_loss\n",
    "        # gradient step\n",
    "        self.optimizer.zero_grad()\n",
    "        loss.backward()\n",
    "        self.optimizer.step()\n",
    "        return np.mean(episodes_sum_of_rewards)\n",
    "\n",
    "    def train(self, env, nb_rollouts):\n",
    "        avg_sum_rewards = []\n",
    "        for ep in trange(nb_rollouts):\n",
    "            avg_sum_rewards.append(self.one_gradient_step(env))\n",
    "        return avg_sum_rewards"
   ]
  },
  {
   "cell_type": "code",
   "execution_count": 12,
   "id": "cd5ea381-f556-4177-8864-228ffcf17e6d",
   "metadata": {},
   "outputs": [
    {
     "name": "stderr",
     "output_type": "stream",
     "text": [
      "100%|██████████| 50/50 [03:39<00:00,  4.39s/it]\n"
     ]
    },
    {
     "data": {
      "text/plain": [
       "[<matplotlib.lines.Line2D at 0x18710129fc0>]"
      ]
     },
     "execution_count": 12,
     "metadata": {},
     "output_type": "execute_result"
    },
    {
     "data": {
      "image/png": "[encoded data removed]",
      "text/plain": [
       "<Figure size 640x480 with 1 Axes>"
      ]
     },
     "metadata": {},
     "output_type": "display_data"
    }
   ],
   "source": [
    "import gymnasium as gym\n",
    "import matplotlib.pyplot as plt\n",
    "\n",
    "#env = gym.make(\"LunarLander-v2\", render_mode=\"rgb_array\")\n",
    "env = gym.make('CartPole-v1', render_mode=\"rgb_array\")\n",
    "config = {'gamma': .99,\n",
    "          'learning_rate': 0.01,\n",
    "          'nb_episodes': 10,\n",
    "          'entropy_coefficient': 1e-3\n",
    "         }\n",
    "\n",
    "pi = policyNetwork(env)\n",
    "V  = valueNetwork(env)\n",
    "agent = a2c_agent(config, pi, V)\n",
    "returns = agent.train(env,50)\n",
    "plt.plot(returns)"
   ]
  },
  {
   "cell_type": "code",
   "execution_count": 13,
   "id": "3aac837a-0fe2-4a07-9df1-e0d29e642f1d",
   "metadata": {},
   "outputs": [
    {
     "name": "stdout",
     "output_type": "stream",
     "text": [
      "Moviepy - Building video c:\\Users\\terve\\Documents\\Info\\S2 MVA\\Reinforcement Learning\\RLclass_MVA_fork\\notebooks\\videos/a2c_policy-episode-0.mp4.\n",
      "Moviepy - Writing video c:\\Users\\terve\\Documents\\Info\\S2 MVA\\Reinforcement Learning\\RLclass_MVA_fork\\notebooks\\videos/a2c_policy-episode-0.mp4\n",
      "\n"
     ]
    },
    {
     "name": "stderr",
     "output_type": "stream",
     "text": [
      "                                                                \r"
     ]
    },
    {
     "name": "stdout",
     "output_type": "stream",
     "text": [
      "Moviepy - Done !\n",
      "Moviepy - video ready c:\\Users\\terve\\Documents\\Info\\S2 MVA\\Reinforcement Learning\\RLclass_MVA_fork\\notebooks\\videos/a2c_policy-episode-0.mp4\n"
     ]
    }
   ],
   "source": [
    "import gymnasium as gym\n",
    "from gymnasium.utils.save_video import save_video\n",
    "\n",
    "#test_env = gym.make(\"LunarLander-v2\", render_mode=\"rgb_array_list\")\n",
    "test_env = gym.make(\"CartPole-v1\", render_mode=\"rgb_array_list\")\n",
    "s,_ = test_env.reset()\n",
    "with torch.no_grad():\n",
    "    for t in range(1000):\n",
    "        a = pi.sample_action(torch.as_tensor(s))\n",
    "        s2,r,d,trunc,_ = test_env.step(a)\n",
    "        s = s2\n",
    "        if d:\n",
    "            break\n",
    "\n",
    "save_video(test_env.render(), \"videos\", fps=test_env.metadata[\"render_fps\"], name_prefix=\"a2c_policy\")"
   ]
  },
  {
   "cell_type": "code",
   "execution_count": 14,
   "id": "c871de74-b3af-49dc-85bd-d0dc5a655915",
   "metadata": {},
   "outputs": [
    {
     "data": {
      "text/html": [
       "<video src=\"videos/a2c_policy-episode-0.mp4\" controls  >\n",
       "      Your browser does not support the <code>video</code> element.\n",
       "    </video>"
      ],
      "text/plain": [
       "<IPython.core.display.Video object>"
      ]
     },
     "execution_count": 14,
     "metadata": {},
     "output_type": "execute_result"
    }
   ],
   "source": [
    "from IPython.display import Video\n",
    "Video(\"videos/a2c_policy-episode-0.mp4\")"
   ]
  },
  {
   "cell_type": "markdown",
   "id": "773ca382-930f-4b18-9f7b-62c12253612a",
   "metadata": {},
   "source": [
    "# Summary\n",
    "\n",
    "In this chapter, we have considered the problem of direct policy search. We have:\n",
    "- cast this problem as a gradient ascent one,\n",
    "- introduced the policy gradient theorem,\n",
    "- derived its direct application as the REINFORCE algorithm,\n",
    "- tackled the problem of gradient variance through the introduction of baselines.\n",
    "- Since baselines required estimating a value function, we have written actor-critic algorithms,\n",
    "- and in particular we have introduced the recent A2C algorithm.\n",
    "\n",
    "Of course there are still lots of things to cover in the literature on policy gradients and more generally policy search. The homework will guide you through some of these important topics, which should provide you with an up-to-date view on the current state-of-the-art in direct policy search."
   ]
  },
  {
   "cell_type": "markdown",
   "id": "c43c7b87-6d9a-4a2b-ac8e-1c942d251978",
   "metadata": {},
   "source": [
    "# Homework\n",
    "\n",
    "The exercises below are here to help you play with the concepts introduced above, to better grasp them. They also introduce additional important notions. They are not optional to reach the class goals. Often, the provided answer reaches out further than the plain question asked and provides comments, additional insights, or external references."
   ]
  },
  {
   "cell_type": "markdown",
   "id": "52f87e89-dbbc-4b1a-af70-c339ce26d137",
   "metadata": {},
   "source": [
    "## Running rollouts in parallel\n",
    "\n",
    "One key feature of policy gradient algorithms is that they are on-policy: they require the data to have been collected by the current policy, and discard this data once a gradient step is taken. Although this might seem sample inefficient, it can turn out to be an acceptable compromise if the policy gradient steps take the policy towards good returns quickly enough.\n",
    "\n",
    "A direct consequence of this on-policy property, is that policy gradients don't use experience replay buffers. Instead, they can take advantage of parallel computation to collect samples. We saw that running several rollouts with the same policy greatly helped in reducing the gradient's variance.\n",
    "\n",
    "<div class=\"alert alert-warning\">\n",
    "    \n",
    "**Exercise:**  \n",
    "Gymnasium provides a [vectorized environments](https://gymnasium.farama.org/api/vector/) class, which enables running multiple independent copies of the same environment in parallel, for a certain number of steps. Modify the REINFORCE and A2C classes to use a vector of environments.\n",
    "</div>"
   ]
  },
  {
   "cell_type": "code",
   "execution_count": null,
   "id": "5452a578-77e7-4b2e-9a2a-677391d41f71",
   "metadata": {},
   "outputs": [],
   "source": [
    "# DEMO CODE OF VECTORIZED ENVIRONMENTS\n",
    "import gymnasium as gym\n",
    "import numpy as np\n",
    "\n",
    "## Make vector env and simulate one step\n",
    "#envs = gym.vector.make(\"CartPole-v1\", num_envs=10)\n",
    "envs = gym.make_vec(\"CartPole-v1\", num_envs=10)\n",
    "## Reset all environments\n",
    "states, _ = envs.reset(seed=42)\n",
    "#print(states)\n",
    "## Choose actions\n",
    "actions = envs.action_space.sample()\n",
    "#print(actions)\n",
    "## Step\n",
    "next_states, rewards, termination, truncation, infos = envs.step(actions)\n",
    "#print(observations)\n",
    "#print(infos)\n",
    "\n",
    "## Warning, when an environment terminates or is truncated, it automatically resets \n",
    "## so that you can keep calling .step() and it does not wait idly until others have \n",
    "## finished.\n",
    "## When this happens, the next state returned by .step() is the result of the reset\n",
    "## and the last state of the previous trajectory is accessed through the \n",
    "## infos['final_observation'] variable.\n",
    "## This also means you cannot use the termination or truncation flags anymore to run \n",
    "## post-trajectories computations.\n",
    "\n",
    "states = next_states\n",
    "for t in range(50):\n",
    "    actions = envs.action_space.sample()\n",
    "    next_states, rewards, termination, truncation, infos = envs.step(actions)\n",
    "    if any(termination):\n",
    "        index = np.where(termination == True)\n",
    "        print(\"Termination vector:\", termination, index)\n",
    "        index = index[0][0]\n",
    "        print(\"Env\", index, \"has been reset! Here is the last transition:\")\n",
    "        print(\"starting state =\", states[index])\n",
    "        print(\"ending state   =\", infos['final_observation'][index])\n",
    "        print(\"reset state    =\", next_states[index])\n",
    "        break\n",
    "    states = next_states"
   ]
  },
  {
   "cell_type": "code",
   "execution_count": null,
   "id": "0fda50b5-2a62-4dd3-a8ec-374db6cac8d0",
   "metadata": {},
   "outputs": [],
   "source": [
    "#%load solutions/no_solution_yet.py"
   ]
  },
  {
   "cell_type": "code",
   "execution_count": null,
   "id": "fbf86032-a614-4552-a7f6-324e7be08002",
   "metadata": {},
   "outputs": [],
   "source": [
    "import gymnasium as gym\n",
    "import matplotlib.pyplot as plt\n",
    "\n",
    "#env = gym.make(\"LunarLander-v2\", render_mode=\"rgb_array\")\n",
    "env = gym.make('CartPole-v1', render_mode=\"rgb_array\")\n",
    "config = {'gamma': .99,\n",
    "          'learning_rate': 0.01,\n",
    "          'nb_episodes': 10,\n",
    "          'nb_sim_steps_per_update': 500\n",
    "         }\n",
    "\n",
    "pi = policyNetwork(env)\n",
    "agent = reinforce_agent(config, pi)\n",
    "returns = agent.train(env,50)\n",
    "plt.plot(returns)"
   ]
  },
  {
   "cell_type": "markdown",
   "id": "3e06d3e2-608b-4823-b6b2-a4238a7e8c5d",
   "metadata": {},
   "source": [
    "## Policy gradients on continuous action domains\n",
    "\n",
    "REINFORCE and A2C with Gaussian policies"
   ]
  },
  {
   "cell_type": "markdown",
   "id": "a6a91884-4238-4c04-87fb-fc33d6c6040e",
   "metadata": {},
   "source": [
    "## Policy gradients for the finite horizon criterion\n",
    "\n",
    "Derive the PG for the total reward, finite horizon criterion.\n",
    "\n",
    "Implement a REINFORCE algorithm."
   ]
  },
  {
   "cell_type": "markdown",
   "id": "7b11d3b9-3790-4df0-8ec5-7ea7ed265428",
   "metadata": {},
   "source": [
    "## Generalized advantage estimation\n",
    "\n",
    "[Generalized Advantage Estimation (Schulman et al., 2016)](https://arxiv.org/abs/1506.02438)"
   ]
  },
  {
   "cell_type": "markdown",
   "id": "dc1e2ac1-5685-41f7-b3cd-114cc3c2212a",
   "metadata": {},
   "source": [
    "## From off-policy policy gradients to TRPO\n",
    "\n",
    "[Trust Region Policy Optimization](https://arxiv.org/abs/1502.05477)\n",
    "\n",
    "Policy gradient methods are intrinsically on-policy algorithms, as states and actions need to be sampled according to $\\rho^\\pi$ and $\\pi$ respectively. But could we make an off-policy version of this gradient estimator?\n",
    "\n",
    "More precisely, could we use data collected by some policy $\\pi$, and the corresponding advantage function $A^{\\pi}$, to still compute the gradient of $J(\\theta')$?\n",
    "\n",
    "In this section, we try to write an optimization problem whose gradient can be used to optimize $J(\\theta')$ while using samples from $\\pi_\\theta$.\n",
    "\n",
    "**$J(\\theta')$ as an expression of $\\pi$ and $A^\\pi$**\n",
    "\n",
    "Recall that:\n",
    "$$J(\\theta) = \\mathbb{E}_{s_0 \\sim p_0} \\left[ V^\\pi(s_0) \\right].$$\n",
    "\n",
    "One can remark that this is also:\n",
    "$$J(\\theta) = \\mathbb{E}_{\\substack{s_0 \\sim p_0\\\\ s_{t>0}\\sim p_t(\\cdot|\\pi')\\\\ a_t\\sim \\pi'}} \\left[ V^\\pi(s_0) \\right].$$\n",
    "\n",
    "Since the starting state distribution is assumed fixed, we can write:\n",
    "$$J(\\theta) = \\mathbb{E}_{\\substack{s_t\\sim p_t(\\cdot|\\pi')\\\\ a_t\\sim \\pi'}} \\left[ V^\\pi(s_0) \\right].$$\n",
    "\n",
    "It is tempting to compare this expression of $J(\\theta)$ which artificially uses $\\pi'$, with that of $J(\\theta')$ and make the advantage function of $\\pi$ appear, with the intention to write $J(\\theta')$ as an expression of $J(\\theta)$ and this advantage function. \n",
    "\n",
    "Let's first remark that:\n",
    "\\begin{align*}\n",
    "J(\\theta) &= \\mathbb{E}_{\\substack{s_t\\sim p_t(\\cdot|\\pi')\\\\ a_t\\sim \\pi'}} \\left[ \\sum_{t=0}^\\infty \\gamma^t V^\\pi(s_t) - \\sum_{t=1}^\\infty \\gamma^t V^\\pi(s_t) \\right],\\\\\n",
    " &= \\mathbb{E}_{\\substack{s_t\\sim p_t(\\cdot|\\pi')\\\\ a_t\\sim \\pi'}} \\left[ \\sum_{t=0}^\\infty \\gamma^t \\left( V^\\pi(s_t) - \\gamma V^\\pi(s_{t+1}) \\right) \\right].\n",
    "\\end{align*}\n",
    "\n",
    "Then recall that $J(\\theta') = \\mathbb{E}_{\\substack{s_t\\sim p_t(\\cdot|\\pi')\\\\ a_t\\sim \\pi'}} \\left[ \\gamma^t r(s_t,a_t) \\right]$. So:\n",
    "\\begin{align*}\n",
    "J(\\theta') - J(\\theta) &= \\mathbb{E}_{\\substack{s_t\\sim p_t(\\cdot|\\pi')\\\\ a_t\\sim \\pi'}} \\left[ \\sum_{t=0}^\\infty \\gamma^t \\left( r(s_t, a_t) + \\gamma V^\\pi(s_{t+1}) - V^\\pi(s_t) \\right) \\right],\\\\\n",
    " &= \\mathbb{E}_{\\substack{s_t\\sim p_t(\\cdot|\\pi')\\\\ a_t\\sim \\pi'}} \\left[ \\sum_{t=0}^\\infty \\gamma^t A^\\pi(s_t,a_t) \\right].\n",
    "\\end{align*}\n",
    "\n",
    "In other terms:\n",
    "$$J(\\theta') = J(\\theta) + \\mathbb{E}_{s_t\\sim p_t(\\cdot|\\pi')} \\left[ \\mathbb{E}_{a_t\\sim \\pi'} \\left[ \\sum_{t=0}^\\infty \\gamma^t A^\\pi(s_t,a_t) \\right]\\right].$$\n",
    "\n",
    "We have $J(\\theta')$ as an expression of $A^\\pi$, but we still require sampling according to $\\pi'$. Let us first replace all the $p_t$ with the state occupancy measure:\n",
    "\\begin{align*}\n",
    "J(\\theta') &= J(\\theta) + \\mathbb{E}_{s_t\\sim p_t(\\cdot|\\pi')} \\left[ \\mathbb{E}_{a_t\\sim \\pi'} \\left[ \\sum_{t=0}^\\infty \\gamma^t A^\\pi(s_t,a_t) \\right]\\right]\\\\\n",
    " &= J(\\theta) + \\sum_{t=0}^\\infty \\gamma^t \\mathbb{E}_{s_t\\sim p_t(\\cdot|\\pi')} \\left[ \\mathbb{E}_{a_t\\sim \\pi'} \\left[ A^\\pi(s_t,a_t) \\right]\\right] \\\\\n",
    " &= J(\\theta) + \\mathbb{E}_{s\\sim \\rho^{\\pi'}} \\left[ \\mathbb{E}_{a\\sim \\pi'} \\left[ A^\\pi(s,a) \\right]\\right].\n",
    "\\end{align*}\n",
    "\n",
    "Now we would like to sample according to $\\rho^{\\pi}$ and $\\pi$ instead of $\\rho^{\\pi'}$ and $\\pi'$ so we can use importance sampling:\n",
    "$$J(\\theta') = J(\\theta) + \\mathbb{E}_{s\\sim \\rho^{\\pi}} \\left[ \\mathbb{E}_{a\\sim \\pi} \\left[ \\frac{\\rho^{\\pi'}(s)}{\\rho^{\\pi}(s)} \\frac{\\pi'(a|s)}{\\pi(a|s)} A^\\pi(s,a) \\right]\\right].$$\n",
    "\n",
    "This is true as long as the distributions due to $\\pi$ have non-zero mass where the distributions due to $\\pi'$ have non-zero mass.\n",
    "\n",
    "So in theory, we could calculate our policy score $J(\\theta')$ if we knew the ratio $\\frac{\\rho^{\\pi'}(s)}{\\rho^{\\pi}(s)}$. But it is very unclear how to actually compute this ratio.\n",
    "\n",
    "One interesting remark is that neural network updates make very small gradient steps on the policy parameters. So it is likely that between two consecutive gradient steps, the policy does not change much, and hopefully the state distribution does no change much either. In that case, we could neglect this ratio and write $\\frac{\\rho^{\\pi'}(s)}{\\rho^{\\pi}(s)} \\approx 1$, which would enable keeping samples collected by $\\pi$ in memory and re-using them in:\n",
    "$$J(\\theta') \\approx \\mathbb{E}_{s\\sim\\rho^{\\pi}} \\mathbb{E}_{a\\sim \\pi} \\left[ \\frac{\\pi'(a|s)}{\\pi(a|s)}A^\\pi(s,a)\\right].$$\n",
    "\n",
    "**When is $\\frac{\\rho^{\\pi'}(s)}{\\rho^{\\pi}(s)} \\approx 1$?**\n",
    "\n",
    "**The constrained optimization problem and its Lagrangian**\n",
    "\n",
    "**Natural policy gradients**\n",
    "\n",
    "**TRPO**"
   ]
  },
  {
   "cell_type": "markdown",
   "id": "18138b35-51dc-4f17-98aa-8db737a218d2",
   "metadata": {},
   "source": [
    "## PPO\n",
    "\n",
    "[Proximal Policy Optimization Algorithms](https://arxiv.org/abs/1707.06347)"
   ]
  },
  {
   "cell_type": "markdown",
   "id": "9d725ead-ea20-495e-95de-a03c771ce2f9",
   "metadata": {},
   "source": [
    "## Gradient-free policy search\n",
    "\n",
    "[Evolution Strategies as a Scalable Alternative to Reinforcement Learning](https://arxiv.org/abs/1703.03864)  \n",
    "[Back to Basics: Benchmarking Canonical Evolution Strategies for Playing Atari](https://arxiv.org/abs/1802.08842)"
   ]
  }
 ],
 "metadata": {
  "kernelspec": {
   "display_name": "Python 3 (ipykernel)",
   "language": "python",
   "name": "python3"
  },
  "language_info": {
   "codemirror_mode": {
    "name": "ipython",
    "version": 3
   },
   "file_extension": ".py",
   "mimetype": "text/x-python",
   "name": "python",
   "nbconvert_exporter": "python",
   "pygments_lexer": "ipython3",
   "version": "3.10.11"
  }
 },
 "nbformat": 4,
 "nbformat_minor": 5
}
